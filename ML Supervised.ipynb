{
 "cells": [
  {
   "cell_type": "markdown",
   "id": "j__1ZiLtX1Ju",
   "metadata": {
    "id": "j__1ZiLtX1Ju"
   },
   "source": [
    "# **Capital Bikeshare**\n",
    "### 📘 Project Overview\n",
    "\n",
    "This project utilizes the **Capital Bikeshare dataset** to explore predictive modeling using various supervised machine learning techniques. The analysis is organized into three major parts:\n",
    "\n",
    "---\n",
    "\n",
    "#### 1️⃣ Regression Analysis\n",
    "- **Objective**: Predict the number of pickup users (`PU_ct`) and drop-off users (`DO_ct`) based on features such as temperature, humidity, wind speed, and other environmental conditions.\n",
    "- **Techniques Used**: \n",
    "  - Performed **Linear Regression** to estimate relationships between variables.\n",
    "  - Evaluated the model using **R-squared (R²)** and **Mean Squared Error (MSE)**.\n",
    "  - Examined regression assumptions and model interpretability.\n",
    "\n",
    "---\n",
    "\n",
    "#### 2️⃣ Classification Analysis\n",
    "- **Objective**: Convert the regression target into a classification problem by determining whether `PU_ct > DO_ct` (binary classification).\n",
    "- **Models Applied**:\n",
    "  - **K-Nearest Neighbors (KNN)**\n",
    "  - **Logistic Regression**\n",
    "  - **Linear Support Vector Classifier (Linear SVC)**\n",
    "  - **Nonlinear SVC with RBF Kernel**\n",
    "- **Evaluation Metric**: Classification accuracy on test data.\n",
    "\n",
    "---\n",
    "\n",
    "#### 3️⃣ Hyperparameter Tuning & Cross-Validation\n",
    "- **Objective**: Enhance model performance and avoid overfitting by selecting optimal hyperparameters.\n",
    "- **Methods Used**:\n",
    "  - **GridSearchCV** and **RandomizedSearchCV** for systematic tuning.\n",
    "  - **5-Fold Cross-Validation** to ensure generalizability and robustness.\n",
    "- **Final Model Selection**: Based on test accuracy after tuning, ensuring a fair comparison across all models.\n",
    "\n",
    "---\n",
    "\n",
    "This end-to-end project demonstrates practical implementation of supervised learning, including **model training**, **tuning**, and **evaluation**, on a real-world dataset.\n"
   ]
  },
  {
   "cell_type": "markdown",
   "id": "55a91441",
   "metadata": {
    "id": "55a91441"
   },
   "source": [
    "## Capital Bikeshare Data\n",
    "https://ride.capitalbikeshare.com/system-data\n",
    "\n",
    "We deal with data from two months: 2024/03 and 2024/10."
   ]
  },
  {
   "cell_type": "markdown",
   "id": "9c1b9c06-eb6a-4696-9895-e15fe84d6523",
   "metadata": {},
   "source": [
    "# Gokul Kumar Kesavan"
   ]
  },
  {
   "cell_type": "markdown",
   "id": "L8IW9x_5YGkj",
   "metadata": {
    "id": "L8IW9x_5YGkj"
   },
   "source": [
    "### Read data from local"
   ]
  },
  {
   "cell_type": "code",
   "execution_count": 3,
   "id": "X4MzX_C0WHiq",
   "metadata": {
    "id": "X4MzX_C0WHiq"
   },
   "outputs": [],
   "source": [
    "import pandas as pd\n",
    "# Read csv files\n",
    "\n",
    "df_Feb = pd.read_csv('C:\\\\Masters\\\\ML I\\\\Lec 2 ML\\\\Data\\\\Data\\\\202402-capitalbikeshare-tripdata.csv')\n",
    "df_Mar = pd.read_csv('C:\\\\Masters\\\\ML I\\\\Lec 2 ML\\\\Data\\\\Data\\\\202403-capitalbikeshare-tripdata.csv')\n",
    "df_Apr = pd.read_csv('C:\\\\Masters\\\\ML I\\\\Lec 2 ML\\\\Data\\\\Data\\\\202404-capitalbikeshare-tripdata.csv')\n",
    "\n",
    "# concat data\n",
    "df=pd.concat([df_Feb, df_Mar,df_Apr])"
   ]
  },
  {
   "cell_type": "code",
   "execution_count": 4,
   "id": "c4387QeZVhRb",
   "metadata": {
    "colab": {
     "base_uri": "https://localhost:8080/",
     "height": 400
    },
    "executionInfo": {
     "elapsed": 115,
     "status": "ok",
     "timestamp": 1737429814483,
     "user": {
      "displayName": "Long He",
      "userId": "13831194534397991444"
     },
     "user_tz": 300
    },
    "id": "c4387QeZVhRb",
    "outputId": "a30c7c50-fdfb-4bc4-831c-98cefa552569"
   },
   "outputs": [
    {
     "data": {
      "text/html": [
       "<div>\n",
       "<style scoped>\n",
       "    .dataframe tbody tr th:only-of-type {\n",
       "        vertical-align: middle;\n",
       "    }\n",
       "\n",
       "    .dataframe tbody tr th {\n",
       "        vertical-align: top;\n",
       "    }\n",
       "\n",
       "    .dataframe thead th {\n",
       "        text-align: right;\n",
       "    }\n",
       "</style>\n",
       "<table border=\"1\" class=\"dataframe\">\n",
       "  <thead>\n",
       "    <tr style=\"text-align: right;\">\n",
       "      <th></th>\n",
       "      <th>ride_id</th>\n",
       "      <th>rideable_type</th>\n",
       "      <th>started_at</th>\n",
       "      <th>ended_at</th>\n",
       "      <th>start_station_name</th>\n",
       "      <th>start_station_id</th>\n",
       "      <th>end_station_name</th>\n",
       "      <th>end_station_id</th>\n",
       "      <th>start_lat</th>\n",
       "      <th>start_lng</th>\n",
       "      <th>end_lat</th>\n",
       "      <th>end_lng</th>\n",
       "      <th>member_casual</th>\n",
       "    </tr>\n",
       "  </thead>\n",
       "  <tbody>\n",
       "    <tr>\n",
       "      <th>0</th>\n",
       "      <td>24DBACC298E33BF6</td>\n",
       "      <td>electric_bike</td>\n",
       "      <td>2024-02-01 21:18:50</td>\n",
       "      <td>2024-02-01 21:27:36</td>\n",
       "      <td>Eckington Pl &amp; Q St NE</td>\n",
       "      <td>31505.0</td>\n",
       "      <td>5th &amp; K St NW</td>\n",
       "      <td>31600.0</td>\n",
       "      <td>38.910893</td>\n",
       "      <td>-77.005023</td>\n",
       "      <td>38.90304</td>\n",
       "      <td>-77.019027</td>\n",
       "      <td>member</td>\n",
       "    </tr>\n",
       "    <tr>\n",
       "      <th>1</th>\n",
       "      <td>FE1067800A18BC56</td>\n",
       "      <td>electric_bike</td>\n",
       "      <td>2024-02-06 17:15:33</td>\n",
       "      <td>2024-02-06 17:30:33</td>\n",
       "      <td>4th &amp; C St SW</td>\n",
       "      <td>31243.0</td>\n",
       "      <td>NaN</td>\n",
       "      <td>NaN</td>\n",
       "      <td>38.886443</td>\n",
       "      <td>-77.017388</td>\n",
       "      <td>38.91000</td>\n",
       "      <td>-76.980000</td>\n",
       "      <td>member</td>\n",
       "    </tr>\n",
       "    <tr>\n",
       "      <th>2</th>\n",
       "      <td>AD1962B215B5879D</td>\n",
       "      <td>electric_bike</td>\n",
       "      <td>2024-02-26 13:19:42</td>\n",
       "      <td>2024-02-26 13:30:44</td>\n",
       "      <td>North Capitol St &amp; F St NW</td>\n",
       "      <td>31624.0</td>\n",
       "      <td>NaN</td>\n",
       "      <td>NaN</td>\n",
       "      <td>38.896907</td>\n",
       "      <td>-77.009684</td>\n",
       "      <td>38.90000</td>\n",
       "      <td>-77.010000</td>\n",
       "      <td>member</td>\n",
       "    </tr>\n",
       "    <tr>\n",
       "      <th>3</th>\n",
       "      <td>3F8352E6D9EC4F85</td>\n",
       "      <td>electric_bike</td>\n",
       "      <td>2024-02-02 11:01:22</td>\n",
       "      <td>2024-02-02 11:05:14</td>\n",
       "      <td>1st &amp; K St NE</td>\n",
       "      <td>31662.0</td>\n",
       "      <td>NaN</td>\n",
       "      <td>NaN</td>\n",
       "      <td>38.902394</td>\n",
       "      <td>-77.005614</td>\n",
       "      <td>38.90000</td>\n",
       "      <td>-77.010000</td>\n",
       "      <td>member</td>\n",
       "    </tr>\n",
       "    <tr>\n",
       "      <th>4</th>\n",
       "      <td>D656DA87FA915F14</td>\n",
       "      <td>electric_bike</td>\n",
       "      <td>2024-02-25 08:28:18</td>\n",
       "      <td>2024-02-25 08:48:44</td>\n",
       "      <td>Virginia Ave &amp; 25th St NW</td>\n",
       "      <td>31297.0</td>\n",
       "      <td>NaN</td>\n",
       "      <td>NaN</td>\n",
       "      <td>38.898456</td>\n",
       "      <td>-77.053075</td>\n",
       "      <td>38.91000</td>\n",
       "      <td>-77.060000</td>\n",
       "      <td>member</td>\n",
       "    </tr>\n",
       "  </tbody>\n",
       "</table>\n",
       "</div>"
      ],
      "text/plain": [
       "            ride_id  rideable_type           started_at             ended_at  \\\n",
       "0  24DBACC298E33BF6  electric_bike  2024-02-01 21:18:50  2024-02-01 21:27:36   \n",
       "1  FE1067800A18BC56  electric_bike  2024-02-06 17:15:33  2024-02-06 17:30:33   \n",
       "2  AD1962B215B5879D  electric_bike  2024-02-26 13:19:42  2024-02-26 13:30:44   \n",
       "3  3F8352E6D9EC4F85  electric_bike  2024-02-02 11:01:22  2024-02-02 11:05:14   \n",
       "4  D656DA87FA915F14  electric_bike  2024-02-25 08:28:18  2024-02-25 08:48:44   \n",
       "\n",
       "           start_station_name  start_station_id end_station_name  \\\n",
       "0      Eckington Pl & Q St NE           31505.0    5th & K St NW   \n",
       "1               4th & C St SW           31243.0              NaN   \n",
       "2  North Capitol St & F St NW           31624.0              NaN   \n",
       "3               1st & K St NE           31662.0              NaN   \n",
       "4   Virginia Ave & 25th St NW           31297.0              NaN   \n",
       "\n",
       "   end_station_id  start_lat  start_lng   end_lat    end_lng member_casual  \n",
       "0         31600.0  38.910893 -77.005023  38.90304 -77.019027        member  \n",
       "1             NaN  38.886443 -77.017388  38.91000 -76.980000        member  \n",
       "2             NaN  38.896907 -77.009684  38.90000 -77.010000        member  \n",
       "3             NaN  38.902394 -77.005614  38.90000 -77.010000        member  \n",
       "4             NaN  38.898456 -77.053075  38.91000 -77.060000        member  "
      ]
     },
     "execution_count": 4,
     "metadata": {},
     "output_type": "execute_result"
    }
   ],
   "source": [
    "df.head()"
   ]
  },
  {
   "cell_type": "code",
   "execution_count": 5,
   "id": "8-sY4iV8XoNK",
   "metadata": {
    "colab": {
     "base_uri": "https://localhost:8080/"
    },
    "executionInfo": {
     "elapsed": 568,
     "status": "ok",
     "timestamp": 1737405459351,
     "user": {
      "displayName": "Long He",
      "userId": "13831194534397991444"
     },
     "user_tz": 300
    },
    "id": "8-sY4iV8XoNK",
    "outputId": "26fe1f6f-197f-497f-cd97-044f84ca902f"
   },
   "outputs": [
    {
     "name": "stdout",
     "output_type": "stream",
     "text": [
      "<class 'pandas.core.frame.DataFrame'>\n",
      "Index: 1245899 entries, 0 to 490264\n",
      "Data columns (total 13 columns):\n",
      " #   Column              Non-Null Count    Dtype  \n",
      "---  ------              --------------    -----  \n",
      " 0   ride_id             1245899 non-null  object \n",
      " 1   rideable_type       1245899 non-null  object \n",
      " 2   started_at          1245899 non-null  object \n",
      " 3   ended_at            1245899 non-null  object \n",
      " 4   start_station_name  1061748 non-null  object \n",
      " 5   start_station_id    1061748 non-null  float64\n",
      " 6   end_station_name    1052421 non-null  object \n",
      " 7   end_station_id      1052253 non-null  float64\n",
      " 8   start_lat           1245899 non-null  float64\n",
      " 9   start_lng           1245899 non-null  float64\n",
      " 10  end_lat             1244884 non-null  float64\n",
      " 11  end_lng             1244884 non-null  float64\n",
      " 12  member_casual       1245899 non-null  object \n",
      "dtypes: float64(6), object(7)\n",
      "memory usage: 133.1+ MB\n"
     ]
    }
   ],
   "source": [
    "df.info()"
   ]
  },
  {
   "cell_type": "markdown",
   "id": "aVqYNoxrcbyD",
   "metadata": {
    "id": "aVqYNoxrcbyD"
   },
   "source": [
    "## Focus on GWSB Station: '22nd & H St NW'"
   ]
  },
  {
   "cell_type": "markdown",
   "id": "1520a1db",
   "metadata": {
    "id": "1520a1db"
   },
   "source": [
    "### Bike Availability: Number of Pickups"
   ]
  },
  {
   "cell_type": "code",
   "execution_count": 6,
   "id": "y3VxzXhcZn-k",
   "metadata": {
    "colab": {
     "base_uri": "https://localhost:8080/",
     "height": 490
    },
    "executionInfo": {
     "elapsed": 688,
     "status": "ok",
     "timestamp": 1737429100342,
     "user": {
      "displayName": "Long He",
      "userId": "13831194534397991444"
     },
     "user_tz": 300
    },
    "id": "y3VxzXhcZn-k",
    "outputId": "81238364-74e2-4b39-e1a4-93c4e89857b5"
   },
   "outputs": [
    {
     "data": {
      "text/plain": [
       "started_at_date\n",
       "2024-02-01    33\n",
       "2024-02-02    23\n",
       "2024-02-03    22\n",
       "2024-02-04    18\n",
       "2024-02-05    19\n",
       "              ..\n",
       "2024-04-26    33\n",
       "2024-04-27    18\n",
       "2024-04-28    36\n",
       "2024-04-29    37\n",
       "2024-04-30    40\n",
       "Name: started_at_date, Length: 90, dtype: int64"
      ]
     },
     "execution_count": 6,
     "metadata": {},
     "output_type": "execute_result"
    }
   ],
   "source": [
    "# Convert the 'started_at' column to datetime objects\n",
    "df['started_at_date'] = pd.to_datetime(df['started_at']).dt.date\n",
    "\n",
    "# Filter for trips started at '22nd & H St NW'\n",
    "PU_trips = df[df['start_station_name'] == '22nd & H St NW']\n",
    "\n",
    "# Group by date and count the trips\n",
    "PU_counts = PU_trips.groupby('started_at_date')['started_at_date'].count()\n",
    "\n",
    "PU_counts"
   ]
  },
  {
   "cell_type": "markdown",
   "id": "NMY1dXxqdAPt",
   "metadata": {
    "id": "NMY1dXxqdAPt"
   },
   "source": [
    "## Dock Availability: Number of Dropoffs"
   ]
  },
  {
   "cell_type": "code",
   "execution_count": 7,
   "id": "SRtAGqpCc_Wj",
   "metadata": {
    "colab": {
     "base_uri": "https://localhost:8080/",
     "height": 490
    },
    "executionInfo": {
     "elapsed": 878,
     "status": "ok",
     "timestamp": 1737429102830,
     "user": {
      "displayName": "Long He",
      "userId": "13831194534397991444"
     },
     "user_tz": 300
    },
    "id": "SRtAGqpCc_Wj",
    "outputId": "52a4c310-cd8d-4527-a72d-191c42394b11"
   },
   "outputs": [
    {
     "data": {
      "text/plain": [
       "ended_at_date\n",
       "2024-02-01    33\n",
       "2024-02-02    25\n",
       "2024-02-03    20\n",
       "2024-02-04    19\n",
       "2024-02-05    23\n",
       "              ..\n",
       "2024-04-26    39\n",
       "2024-04-27    24\n",
       "2024-04-28    28\n",
       "2024-04-29    38\n",
       "2024-04-30    39\n",
       "Name: ended_at_date, Length: 90, dtype: int64"
      ]
     },
     "execution_count": 7,
     "metadata": {},
     "output_type": "execute_result"
    }
   ],
   "source": [
    "# Convert the 'ended_at' column to datetime objects\n",
    "df['ended_at_date'] = pd.to_datetime(df['ended_at']).dt.date\n",
    "\n",
    "# Filter for trips ended at '22nd & H St NW'\n",
    "DO_trips = df[df['end_station_name'] == '22nd & H St NW']\n",
    "\n",
    "# Group by date and count the trips\n",
    "DO_counts = DO_trips.groupby('ended_at_date')['ended_at_date'].count()\n",
    "\n",
    "DO_counts"
   ]
  },
  {
   "cell_type": "markdown",
   "id": "3qosEW4wdVJ2",
   "metadata": {
    "id": "3qosEW4wdVJ2"
   },
   "source": [
    "## Merge PU and DO tables\n",
    "- For each day, we look at the numbers of pickups and dropoffs"
   ]
  },
  {
   "cell_type": "code",
   "execution_count": 8,
   "id": "UwgJLIMcf9SB",
   "metadata": {
    "colab": {
     "base_uri": "https://localhost:8080/",
     "height": 455
    },
    "executionInfo": {
     "elapsed": 106,
     "status": "ok",
     "timestamp": 1737429105295,
     "user": {
      "displayName": "Long He",
      "userId": "13831194534397991444"
     },
     "user_tz": 300
    },
    "id": "UwgJLIMcf9SB",
    "outputId": "7087bc91-f2ad-4d34-efa1-0d1d638b9feb"
   },
   "outputs": [
    {
     "data": {
      "text/html": [
       "<div>\n",
       "<style scoped>\n",
       "    .dataframe tbody tr th:only-of-type {\n",
       "        vertical-align: middle;\n",
       "    }\n",
       "\n",
       "    .dataframe tbody tr th {\n",
       "        vertical-align: top;\n",
       "    }\n",
       "\n",
       "    .dataframe thead th {\n",
       "        text-align: right;\n",
       "    }\n",
       "</style>\n",
       "<table border=\"1\" class=\"dataframe\">\n",
       "  <thead>\n",
       "    <tr style=\"text-align: right;\">\n",
       "      <th></th>\n",
       "      <th>PU_ct</th>\n",
       "      <th>DO_ct</th>\n",
       "    </tr>\n",
       "    <tr>\n",
       "      <th>date</th>\n",
       "      <th></th>\n",
       "      <th></th>\n",
       "    </tr>\n",
       "  </thead>\n",
       "  <tbody>\n",
       "    <tr>\n",
       "      <th>2024-02-01</th>\n",
       "      <td>33</td>\n",
       "      <td>33</td>\n",
       "    </tr>\n",
       "    <tr>\n",
       "      <th>2024-02-02</th>\n",
       "      <td>23</td>\n",
       "      <td>25</td>\n",
       "    </tr>\n",
       "    <tr>\n",
       "      <th>2024-02-03</th>\n",
       "      <td>22</td>\n",
       "      <td>20</td>\n",
       "    </tr>\n",
       "    <tr>\n",
       "      <th>2024-02-04</th>\n",
       "      <td>18</td>\n",
       "      <td>19</td>\n",
       "    </tr>\n",
       "    <tr>\n",
       "      <th>2024-02-05</th>\n",
       "      <td>19</td>\n",
       "      <td>23</td>\n",
       "    </tr>\n",
       "    <tr>\n",
       "      <th>...</th>\n",
       "      <td>...</td>\n",
       "      <td>...</td>\n",
       "    </tr>\n",
       "    <tr>\n",
       "      <th>2024-04-26</th>\n",
       "      <td>33</td>\n",
       "      <td>39</td>\n",
       "    </tr>\n",
       "    <tr>\n",
       "      <th>2024-04-27</th>\n",
       "      <td>18</td>\n",
       "      <td>24</td>\n",
       "    </tr>\n",
       "    <tr>\n",
       "      <th>2024-04-28</th>\n",
       "      <td>36</td>\n",
       "      <td>28</td>\n",
       "    </tr>\n",
       "    <tr>\n",
       "      <th>2024-04-29</th>\n",
       "      <td>37</td>\n",
       "      <td>38</td>\n",
       "    </tr>\n",
       "    <tr>\n",
       "      <th>2024-04-30</th>\n",
       "      <td>40</td>\n",
       "      <td>39</td>\n",
       "    </tr>\n",
       "  </tbody>\n",
       "</table>\n",
       "<p>90 rows × 2 columns</p>\n",
       "</div>"
      ],
      "text/plain": [
       "            PU_ct  DO_ct\n",
       "date                    \n",
       "2024-02-01     33     33\n",
       "2024-02-02     23     25\n",
       "2024-02-03     22     20\n",
       "2024-02-04     18     19\n",
       "2024-02-05     19     23\n",
       "...           ...    ...\n",
       "2024-04-26     33     39\n",
       "2024-04-27     18     24\n",
       "2024-04-28     36     28\n",
       "2024-04-29     37     38\n",
       "2024-04-30     40     39\n",
       "\n",
       "[90 rows x 2 columns]"
      ]
     },
     "execution_count": 8,
     "metadata": {},
     "output_type": "execute_result"
    }
   ],
   "source": [
    "# merge PU_counts and DO_counts by matching the dates, and change the column names to PU_count and DO_count respectively.\n",
    "\n",
    "PU_DO_counts = pd.merge(PU_counts, DO_counts, left_index=True, right_index=True, how='outer')\n",
    "PU_DO_counts = PU_DO_counts.rename(columns={'started_at_date': 'PU_ct', 'ended_at_date': 'DO_ct'})\n",
    "\n",
    "# change the index name from 'started_at' to 'date'\n",
    "\n",
    "PU_DO_counts = PU_DO_counts.rename_axis('date')\n",
    "PU_DO_counts"
   ]
  },
  {
   "cell_type": "markdown",
   "id": "4f5c2444",
   "metadata": {
    "id": "4f5c2444"
   },
   "source": [
    "## Visualize pickups and dropoffs"
   ]
  },
  {
   "cell_type": "code",
   "execution_count": 9,
   "id": "JGyrEtXZhnuH",
   "metadata": {
    "colab": {
     "base_uri": "https://localhost:8080/",
     "height": 564
    },
    "executionInfo": {
     "elapsed": 681,
     "status": "ok",
     "timestamp": 1737429110196,
     "user": {
      "displayName": "Long He",
      "userId": "13831194534397991444"
     },
     "user_tz": 300
    },
    "id": "JGyrEtXZhnuH",
    "outputId": "783a5549-9ea2-48e6-c603-5a376dba63dc"
   },
   "outputs": [
    {
     "data": {
      "image/png": "[encoded data removed]",
      "text/plain": [
       "<Figure size 1200x600 with 1 Axes>"
      ]
     },
     "metadata": {},
     "output_type": "display_data"
    }
   ],
   "source": [
    "# plot line chart showing the PU_count and DO_count over time\n",
    "import matplotlib.pyplot as plt\n",
    "\n",
    "# Create the line chart\n",
    "plt.figure(figsize=(12, 6))\n",
    "plt.plot(PU_DO_counts.index, PU_DO_counts['PU_ct'], label='PU_ct')\n",
    "plt.plot(PU_DO_counts.index, PU_DO_counts['DO_ct'], label='DO_ct')\n",
    "\n",
    "# Customize the chart\n",
    "plt.xlabel('Date')\n",
    "plt.ylabel('Count')\n",
    "plt.title('Pickups and Dropoffs Over Time')\n",
    "plt.legend()\n",
    "plt.grid(True)\n",
    "\n",
    "plt.show()"
   ]
  },
  {
   "cell_type": "markdown",
   "id": "cbb1a6e3",
   "metadata": {
    "id": "cbb1a6e3"
   },
   "source": [
    "# Feature Information: Weather Data\n",
    "- From https://www.visualcrossing.com/weather-history/"
   ]
  },
  {
   "cell_type": "code",
   "execution_count": 10,
   "id": "91178cea",
   "metadata": {
    "colab": {
     "base_uri": "https://localhost:8080/",
     "height": 429
    },
    "executionInfo": {
     "elapsed": 810,
     "status": "ok",
     "timestamp": 1737429112132,
     "user": {
      "displayName": "Long He",
      "userId": "13831194534397991444"
     },
     "user_tz": 300
    },
    "id": "91178cea",
    "outputId": "4a93fe66-a50d-42d4-902b-3db2d860432e"
   },
   "outputs": [
    {
     "data": {
      "text/html": [
       "<div>\n",
       "<style scoped>\n",
       "    .dataframe tbody tr th:only-of-type {\n",
       "        vertical-align: middle;\n",
       "    }\n",
       "\n",
       "    .dataframe tbody tr th {\n",
       "        vertical-align: top;\n",
       "    }\n",
       "\n",
       "    .dataframe thead th {\n",
       "        text-align: right;\n",
       "    }\n",
       "</style>\n",
       "<table border=\"1\" class=\"dataframe\">\n",
       "  <thead>\n",
       "    <tr style=\"text-align: right;\">\n",
       "      <th></th>\n",
       "      <th>name</th>\n",
       "      <th>datetime</th>\n",
       "      <th>tempmax</th>\n",
       "      <th>tempmin</th>\n",
       "      <th>temp</th>\n",
       "      <th>feelslikemax</th>\n",
       "      <th>feelslikemin</th>\n",
       "      <th>feelslike</th>\n",
       "      <th>dew</th>\n",
       "      <th>humidity</th>\n",
       "      <th>...</th>\n",
       "      <th>solarenergy</th>\n",
       "      <th>uvindex</th>\n",
       "      <th>severerisk</th>\n",
       "      <th>sunrise</th>\n",
       "      <th>sunset</th>\n",
       "      <th>moonphase</th>\n",
       "      <th>conditions</th>\n",
       "      <th>description</th>\n",
       "      <th>icon</th>\n",
       "      <th>stations</th>\n",
       "    </tr>\n",
       "  </thead>\n",
       "  <tbody>\n",
       "    <tr>\n",
       "      <th>0</th>\n",
       "      <td>washington, dc</td>\n",
       "      <td>2024-01-01</td>\n",
       "      <td>43.0</td>\n",
       "      <td>38.9</td>\n",
       "      <td>40.8</td>\n",
       "      <td>41.8</td>\n",
       "      <td>31.4</td>\n",
       "      <td>36.4</td>\n",
       "      <td>33.3</td>\n",
       "      <td>74.7</td>\n",
       "      <td>...</td>\n",
       "      <td>0.9</td>\n",
       "      <td>1</td>\n",
       "      <td>10</td>\n",
       "      <td>2024-01-01T07:26:50</td>\n",
       "      <td>2024-01-01T16:56:30</td>\n",
       "      <td>0.68</td>\n",
       "      <td>Overcast</td>\n",
       "      <td>Cloudy skies throughout the day.</td>\n",
       "      <td>cloudy</td>\n",
       "      <td>KDCA,72405013743,D6279,72403793728,KADW,KDAA,7...</td>\n",
       "    </tr>\n",
       "    <tr>\n",
       "      <th>1</th>\n",
       "      <td>washington, dc</td>\n",
       "      <td>2024-01-02</td>\n",
       "      <td>45.9</td>\n",
       "      <td>35.7</td>\n",
       "      <td>40.4</td>\n",
       "      <td>40.9</td>\n",
       "      <td>27.2</td>\n",
       "      <td>33.8</td>\n",
       "      <td>26.2</td>\n",
       "      <td>57.3</td>\n",
       "      <td>...</td>\n",
       "      <td>8.3</td>\n",
       "      <td>5</td>\n",
       "      <td>10</td>\n",
       "      <td>2024-01-02T07:26:58</td>\n",
       "      <td>2024-01-02T16:57:20</td>\n",
       "      <td>0.72</td>\n",
       "      <td>Partially cloudy</td>\n",
       "      <td>Partly cloudy throughout the day.</td>\n",
       "      <td>partly-cloudy-day</td>\n",
       "      <td>KDCA,72405013743,D6279,72403793728,KADW,KDAA,7...</td>\n",
       "    </tr>\n",
       "    <tr>\n",
       "      <th>2</th>\n",
       "      <td>washington, dc</td>\n",
       "      <td>2024-01-03</td>\n",
       "      <td>47.8</td>\n",
       "      <td>33.7</td>\n",
       "      <td>39.9</td>\n",
       "      <td>44.6</td>\n",
       "      <td>27.8</td>\n",
       "      <td>36.4</td>\n",
       "      <td>26.6</td>\n",
       "      <td>59.5</td>\n",
       "      <td>...</td>\n",
       "      <td>9.6</td>\n",
       "      <td>5</td>\n",
       "      <td>10</td>\n",
       "      <td>2024-01-03T07:27:04</td>\n",
       "      <td>2024-01-03T16:58:10</td>\n",
       "      <td>0.75</td>\n",
       "      <td>Partially cloudy</td>\n",
       "      <td>Partly cloudy throughout the day.</td>\n",
       "      <td>partly-cloudy-day</td>\n",
       "      <td>C6294,KDCA,72405013743,D6279,72403793728,KADW,...</td>\n",
       "    </tr>\n",
       "    <tr>\n",
       "      <th>3</th>\n",
       "      <td>washington, dc</td>\n",
       "      <td>2024-01-04</td>\n",
       "      <td>46.7</td>\n",
       "      <td>33.2</td>\n",
       "      <td>40.4</td>\n",
       "      <td>41.9</td>\n",
       "      <td>24.1</td>\n",
       "      <td>34.6</td>\n",
       "      <td>25.2</td>\n",
       "      <td>55.2</td>\n",
       "      <td>...</td>\n",
       "      <td>4.8</td>\n",
       "      <td>4</td>\n",
       "      <td>10</td>\n",
       "      <td>2024-01-04T07:27:07</td>\n",
       "      <td>2024-01-04T16:59:02</td>\n",
       "      <td>0.78</td>\n",
       "      <td>Partially cloudy</td>\n",
       "      <td>Partly cloudy throughout the day.</td>\n",
       "      <td>partly-cloudy-day</td>\n",
       "      <td>C6294,KDCA,72405013743,72403793728,KADW,KDAA,7...</td>\n",
       "    </tr>\n",
       "    <tr>\n",
       "      <th>4</th>\n",
       "      <td>washington, dc</td>\n",
       "      <td>2024-01-05</td>\n",
       "      <td>39.9</td>\n",
       "      <td>27.8</td>\n",
       "      <td>33.6</td>\n",
       "      <td>35.8</td>\n",
       "      <td>19.4</td>\n",
       "      <td>28.0</td>\n",
       "      <td>18.9</td>\n",
       "      <td>55.0</td>\n",
       "      <td>...</td>\n",
       "      <td>11.6</td>\n",
       "      <td>5</td>\n",
       "      <td>10</td>\n",
       "      <td>2024-01-05T07:27:09</td>\n",
       "      <td>2024-01-05T16:59:55</td>\n",
       "      <td>0.81</td>\n",
       "      <td>Partially cloudy</td>\n",
       "      <td>Partly cloudy throughout the day.</td>\n",
       "      <td>partly-cloudy-day</td>\n",
       "      <td>C6294,KDCA,72405013743,72403793728,D6279,KADW,...</td>\n",
       "    </tr>\n",
       "  </tbody>\n",
       "</table>\n",
       "<p>5 rows × 33 columns</p>\n",
       "</div>"
      ],
      "text/plain": [
       "             name    datetime  tempmax  tempmin  temp  feelslikemax  \\\n",
       "0  washington, dc  2024-01-01     43.0     38.9  40.8          41.8   \n",
       "1  washington, dc  2024-01-02     45.9     35.7  40.4          40.9   \n",
       "2  washington, dc  2024-01-03     47.8     33.7  39.9          44.6   \n",
       "3  washington, dc  2024-01-04     46.7     33.2  40.4          41.9   \n",
       "4  washington, dc  2024-01-05     39.9     27.8  33.6          35.8   \n",
       "\n",
       "   feelslikemin  feelslike   dew  humidity  ...  solarenergy  uvindex  \\\n",
       "0          31.4       36.4  33.3      74.7  ...          0.9        1   \n",
       "1          27.2       33.8  26.2      57.3  ...          8.3        5   \n",
       "2          27.8       36.4  26.6      59.5  ...          9.6        5   \n",
       "3          24.1       34.6  25.2      55.2  ...          4.8        4   \n",
       "4          19.4       28.0  18.9      55.0  ...         11.6        5   \n",
       "\n",
       "   severerisk              sunrise               sunset  moonphase  \\\n",
       "0          10  2024-01-01T07:26:50  2024-01-01T16:56:30       0.68   \n",
       "1          10  2024-01-02T07:26:58  2024-01-02T16:57:20       0.72   \n",
       "2          10  2024-01-03T07:27:04  2024-01-03T16:58:10       0.75   \n",
       "3          10  2024-01-04T07:27:07  2024-01-04T16:59:02       0.78   \n",
       "4          10  2024-01-05T07:27:09  2024-01-05T16:59:55       0.81   \n",
       "\n",
       "         conditions                        description               icon  \\\n",
       "0          Overcast   Cloudy skies throughout the day.             cloudy   \n",
       "1  Partially cloudy  Partly cloudy throughout the day.  partly-cloudy-day   \n",
       "2  Partially cloudy  Partly cloudy throughout the day.  partly-cloudy-day   \n",
       "3  Partially cloudy  Partly cloudy throughout the day.  partly-cloudy-day   \n",
       "4  Partially cloudy  Partly cloudy throughout the day.  partly-cloudy-day   \n",
       "\n",
       "                                            stations  \n",
       "0  KDCA,72405013743,D6279,72403793728,KADW,KDAA,7...  \n",
       "1  KDCA,72405013743,D6279,72403793728,KADW,KDAA,7...  \n",
       "2  C6294,KDCA,72405013743,D6279,72403793728,KADW,...  \n",
       "3  C6294,KDCA,72405013743,72403793728,KADW,KDAA,7...  \n",
       "4  C6294,KDCA,72405013743,72403793728,D6279,KADW,...  \n",
       "\n",
       "[5 rows x 33 columns]"
      ]
     },
     "execution_count": 10,
     "metadata": {},
     "output_type": "execute_result"
    }
   ],
   "source": [
    "df_weather = pd.read_csv('C:\\\\Masters\\\\ML I\\\\Lec 2 ML\\\\Data\\\\Data\\\\DC_weather_2024.csv')\n",
    "\n",
    "df_weather.head()"
   ]
  },
  {
   "cell_type": "code",
   "execution_count": 11,
   "id": "d0I3EqWpi5zI",
   "metadata": {
    "colab": {
     "base_uri": "https://localhost:8080/"
    },
    "executionInfo": {
     "elapsed": 1,
     "status": "ok",
     "timestamp": 1737429112132,
     "user": {
      "displayName": "Long He",
      "userId": "13831194534397991444"
     },
     "user_tz": 300
    },
    "id": "d0I3EqWpi5zI",
    "outputId": "2272f337-e7fc-40f7-91f3-38ea07abffc9"
   },
   "outputs": [
    {
     "name": "stdout",
     "output_type": "stream",
     "text": [
      "<class 'pandas.core.frame.DataFrame'>\n",
      "RangeIndex: 366 entries, 0 to 365\n",
      "Data columns (total 33 columns):\n",
      " #   Column            Non-Null Count  Dtype  \n",
      "---  ------            --------------  -----  \n",
      " 0   name              366 non-null    object \n",
      " 1   datetime          366 non-null    object \n",
      " 2   tempmax           366 non-null    float64\n",
      " 3   tempmin           366 non-null    float64\n",
      " 4   temp              366 non-null    float64\n",
      " 5   feelslikemax      366 non-null    float64\n",
      " 6   feelslikemin      366 non-null    float64\n",
      " 7   feelslike         366 non-null    float64\n",
      " 8   dew               366 non-null    float64\n",
      " 9   humidity          366 non-null    float64\n",
      " 10  precip            366 non-null    float64\n",
      " 11  precipprob        366 non-null    int64  \n",
      " 12  precipcover       366 non-null    float64\n",
      " 13  preciptype        134 non-null    object \n",
      " 14  snow              366 non-null    float64\n",
      " 15  snowdepth         366 non-null    float64\n",
      " 16  windgust          366 non-null    float64\n",
      " 17  windspeed         366 non-null    float64\n",
      " 18  winddir           366 non-null    float64\n",
      " 19  sealevelpressure  366 non-null    float64\n",
      " 20  cloudcover        366 non-null    float64\n",
      " 21  visibility        366 non-null    float64\n",
      " 22  solarradiation    366 non-null    float64\n",
      " 23  solarenergy       366 non-null    float64\n",
      " 24  uvindex           366 non-null    int64  \n",
      " 25  severerisk        366 non-null    int64  \n",
      " 26  sunrise           366 non-null    object \n",
      " 27  sunset            366 non-null    object \n",
      " 28  moonphase         366 non-null    float64\n",
      " 29  conditions        366 non-null    object \n",
      " 30  description       366 non-null    object \n",
      " 31  icon              366 non-null    object \n",
      " 32  stations          366 non-null    object \n",
      "dtypes: float64(21), int64(3), object(9)\n",
      "memory usage: 94.5+ KB\n"
     ]
    }
   ],
   "source": [
    "df_weather.info()"
   ]
  },
  {
   "cell_type": "markdown",
   "id": "94f6001e",
   "metadata": {
    "id": "94f6001e"
   },
   "source": [
    "## Drop variables of your choice"
   ]
  },
  {
   "cell_type": "code",
   "execution_count": 12,
   "id": "82a937c9",
   "metadata": {
    "id": "82a937c9"
   },
   "outputs": [],
   "source": [
    "# Drop unnecessary variables\n",
    "df_weather=df_weather.drop(columns=['name', 'stations','description','sunrise','sunset','conditions','severerisk','preciptype','windgust'])"
   ]
  },
  {
   "cell_type": "markdown",
   "id": "a28e9ce3",
   "metadata": {
    "id": "a28e9ce3"
   },
   "source": [
    "## Prepare X and y: Merge df_weather with PU_DO_counts"
   ]
  },
  {
   "cell_type": "code",
   "execution_count": 13,
   "id": "LceO3zBEq0-q",
   "metadata": {
    "colab": {
     "base_uri": "https://localhost:8080/",
     "height": 721
    },
    "executionInfo": {
     "elapsed": 257,
     "status": "ok",
     "timestamp": 1737429116983,
     "user": {
      "displayName": "Long He",
      "userId": "13831194534397991444"
     },
     "user_tz": 300
    },
    "id": "LceO3zBEq0-q",
    "outputId": "20faeb67-00f8-47f5-a5c0-a52308456c53"
   },
   "outputs": [
    {
     "data": {
      "text/html": [
       "<div>\n",
       "<style scoped>\n",
       "    .dataframe tbody tr th:only-of-type {\n",
       "        vertical-align: middle;\n",
       "    }\n",
       "\n",
       "    .dataframe tbody tr th {\n",
       "        vertical-align: top;\n",
       "    }\n",
       "\n",
       "    .dataframe thead th {\n",
       "        text-align: right;\n",
       "    }\n",
       "</style>\n",
       "<table border=\"1\" class=\"dataframe\">\n",
       "  <thead>\n",
       "    <tr style=\"text-align: right;\">\n",
       "      <th></th>\n",
       "      <th>date</th>\n",
       "      <th>PU_ct</th>\n",
       "      <th>DO_ct</th>\n",
       "      <th>datetime</th>\n",
       "      <th>tempmax</th>\n",
       "      <th>tempmin</th>\n",
       "      <th>temp</th>\n",
       "      <th>feelslikemax</th>\n",
       "      <th>feelslikemin</th>\n",
       "      <th>feelslike</th>\n",
       "      <th>...</th>\n",
       "      <th>windspeed</th>\n",
       "      <th>winddir</th>\n",
       "      <th>sealevelpressure</th>\n",
       "      <th>cloudcover</th>\n",
       "      <th>visibility</th>\n",
       "      <th>solarradiation</th>\n",
       "      <th>solarenergy</th>\n",
       "      <th>uvindex</th>\n",
       "      <th>moonphase</th>\n",
       "      <th>icon</th>\n",
       "    </tr>\n",
       "  </thead>\n",
       "  <tbody>\n",
       "    <tr>\n",
       "      <th>0</th>\n",
       "      <td>2024-02-01</td>\n",
       "      <td>33</td>\n",
       "      <td>33</td>\n",
       "      <td>2024-02-01</td>\n",
       "      <td>53.0</td>\n",
       "      <td>31.7</td>\n",
       "      <td>42.4</td>\n",
       "      <td>53.0</td>\n",
       "      <td>26.4</td>\n",
       "      <td>39.3</td>\n",
       "      <td>...</td>\n",
       "      <td>12.0</td>\n",
       "      <td>190.8</td>\n",
       "      <td>1016.3</td>\n",
       "      <td>43.3</td>\n",
       "      <td>8.4</td>\n",
       "      <td>136.8</td>\n",
       "      <td>11.8</td>\n",
       "      <td>5</td>\n",
       "      <td>0.73</td>\n",
       "      <td>partly-cloudy-day</td>\n",
       "    </tr>\n",
       "    <tr>\n",
       "      <th>1</th>\n",
       "      <td>2024-02-02</td>\n",
       "      <td>23</td>\n",
       "      <td>25</td>\n",
       "      <td>2024-02-02</td>\n",
       "      <td>51.8</td>\n",
       "      <td>44.0</td>\n",
       "      <td>47.1</td>\n",
       "      <td>51.8</td>\n",
       "      <td>36.6</td>\n",
       "      <td>44.4</td>\n",
       "      <td>...</td>\n",
       "      <td>19.1</td>\n",
       "      <td>354.3</td>\n",
       "      <td>1012.8</td>\n",
       "      <td>97.3</td>\n",
       "      <td>9.8</td>\n",
       "      <td>51.7</td>\n",
       "      <td>4.4</td>\n",
       "      <td>2</td>\n",
       "      <td>0.75</td>\n",
       "      <td>rain</td>\n",
       "    </tr>\n",
       "    <tr>\n",
       "      <th>2</th>\n",
       "      <td>2024-02-03</td>\n",
       "      <td>22</td>\n",
       "      <td>20</td>\n",
       "      <td>2024-02-03</td>\n",
       "      <td>51.0</td>\n",
       "      <td>35.8</td>\n",
       "      <td>42.2</td>\n",
       "      <td>51.0</td>\n",
       "      <td>28.0</td>\n",
       "      <td>37.6</td>\n",
       "      <td>...</td>\n",
       "      <td>14.7</td>\n",
       "      <td>354.9</td>\n",
       "      <td>1018.2</td>\n",
       "      <td>11.0</td>\n",
       "      <td>9.9</td>\n",
       "      <td>143.9</td>\n",
       "      <td>12.5</td>\n",
       "      <td>6</td>\n",
       "      <td>0.79</td>\n",
       "      <td>clear-day</td>\n",
       "    </tr>\n",
       "    <tr>\n",
       "      <th>3</th>\n",
       "      <td>2024-02-04</td>\n",
       "      <td>18</td>\n",
       "      <td>19</td>\n",
       "      <td>2024-02-04</td>\n",
       "      <td>51.2</td>\n",
       "      <td>32.7</td>\n",
       "      <td>41.7</td>\n",
       "      <td>51.2</td>\n",
       "      <td>27.4</td>\n",
       "      <td>40.7</td>\n",
       "      <td>...</td>\n",
       "      <td>9.2</td>\n",
       "      <td>87.4</td>\n",
       "      <td>1016.0</td>\n",
       "      <td>9.0</td>\n",
       "      <td>9.9</td>\n",
       "      <td>147.4</td>\n",
       "      <td>12.8</td>\n",
       "      <td>6</td>\n",
       "      <td>0.83</td>\n",
       "      <td>clear-day</td>\n",
       "    </tr>\n",
       "    <tr>\n",
       "      <th>4</th>\n",
       "      <td>2024-02-05</td>\n",
       "      <td>19</td>\n",
       "      <td>23</td>\n",
       "      <td>2024-02-05</td>\n",
       "      <td>51.8</td>\n",
       "      <td>32.5</td>\n",
       "      <td>41.0</td>\n",
       "      <td>51.8</td>\n",
       "      <td>26.0</td>\n",
       "      <td>37.8</td>\n",
       "      <td>...</td>\n",
       "      <td>12.2</td>\n",
       "      <td>34.9</td>\n",
       "      <td>1013.8</td>\n",
       "      <td>21.4</td>\n",
       "      <td>9.9</td>\n",
       "      <td>145.3</td>\n",
       "      <td>12.7</td>\n",
       "      <td>6</td>\n",
       "      <td>0.86</td>\n",
       "      <td>partly-cloudy-day</td>\n",
       "    </tr>\n",
       "    <tr>\n",
       "      <th>...</th>\n",
       "      <td>...</td>\n",
       "      <td>...</td>\n",
       "      <td>...</td>\n",
       "      <td>...</td>\n",
       "      <td>...</td>\n",
       "      <td>...</td>\n",
       "      <td>...</td>\n",
       "      <td>...</td>\n",
       "      <td>...</td>\n",
       "      <td>...</td>\n",
       "      <td>...</td>\n",
       "      <td>...</td>\n",
       "      <td>...</td>\n",
       "      <td>...</td>\n",
       "      <td>...</td>\n",
       "      <td>...</td>\n",
       "      <td>...</td>\n",
       "      <td>...</td>\n",
       "      <td>...</td>\n",
       "      <td>...</td>\n",
       "      <td>...</td>\n",
       "    </tr>\n",
       "    <tr>\n",
       "      <th>85</th>\n",
       "      <td>2024-04-26</td>\n",
       "      <td>33</td>\n",
       "      <td>39</td>\n",
       "      <td>2024-04-26</td>\n",
       "      <td>64.9</td>\n",
       "      <td>45.5</td>\n",
       "      <td>55.2</td>\n",
       "      <td>64.9</td>\n",
       "      <td>41.5</td>\n",
       "      <td>54.2</td>\n",
       "      <td>...</td>\n",
       "      <td>15.4</td>\n",
       "      <td>116.4</td>\n",
       "      <td>1029.5</td>\n",
       "      <td>69.1</td>\n",
       "      <td>9.9</td>\n",
       "      <td>215.0</td>\n",
       "      <td>18.5</td>\n",
       "      <td>9</td>\n",
       "      <td>0.59</td>\n",
       "      <td>partly-cloudy-day</td>\n",
       "    </tr>\n",
       "    <tr>\n",
       "      <th>86</th>\n",
       "      <td>2024-04-27</td>\n",
       "      <td>18</td>\n",
       "      <td>24</td>\n",
       "      <td>2024-04-27</td>\n",
       "      <td>60.1</td>\n",
       "      <td>51.9</td>\n",
       "      <td>55.7</td>\n",
       "      <td>60.1</td>\n",
       "      <td>51.9</td>\n",
       "      <td>55.7</td>\n",
       "      <td>...</td>\n",
       "      <td>10.0</td>\n",
       "      <td>149.9</td>\n",
       "      <td>1030.1</td>\n",
       "      <td>97.3</td>\n",
       "      <td>9.7</td>\n",
       "      <td>44.0</td>\n",
       "      <td>3.9</td>\n",
       "      <td>2</td>\n",
       "      <td>0.63</td>\n",
       "      <td>rain</td>\n",
       "    </tr>\n",
       "    <tr>\n",
       "      <th>87</th>\n",
       "      <td>2024-04-28</td>\n",
       "      <td>36</td>\n",
       "      <td>28</td>\n",
       "      <td>2024-04-28</td>\n",
       "      <td>83.1</td>\n",
       "      <td>55.8</td>\n",
       "      <td>67.0</td>\n",
       "      <td>83.3</td>\n",
       "      <td>55.8</td>\n",
       "      <td>67.1</td>\n",
       "      <td>...</td>\n",
       "      <td>10.0</td>\n",
       "      <td>170.0</td>\n",
       "      <td>1021.3</td>\n",
       "      <td>62.1</td>\n",
       "      <td>9.8</td>\n",
       "      <td>213.6</td>\n",
       "      <td>18.5</td>\n",
       "      <td>9</td>\n",
       "      <td>0.67</td>\n",
       "      <td>partly-cloudy-day</td>\n",
       "    </tr>\n",
       "    <tr>\n",
       "      <th>88</th>\n",
       "      <td>2024-04-29</td>\n",
       "      <td>37</td>\n",
       "      <td>38</td>\n",
       "      <td>2024-04-29</td>\n",
       "      <td>88.3</td>\n",
       "      <td>62.7</td>\n",
       "      <td>75.2</td>\n",
       "      <td>88.9</td>\n",
       "      <td>62.7</td>\n",
       "      <td>75.3</td>\n",
       "      <td>...</td>\n",
       "      <td>13.0</td>\n",
       "      <td>177.3</td>\n",
       "      <td>1015.6</td>\n",
       "      <td>35.8</td>\n",
       "      <td>9.9</td>\n",
       "      <td>204.5</td>\n",
       "      <td>17.8</td>\n",
       "      <td>9</td>\n",
       "      <td>0.70</td>\n",
       "      <td>partly-cloudy-day</td>\n",
       "    </tr>\n",
       "    <tr>\n",
       "      <th>89</th>\n",
       "      <td>2024-04-30</td>\n",
       "      <td>40</td>\n",
       "      <td>39</td>\n",
       "      <td>2024-04-30</td>\n",
       "      <td>82.4</td>\n",
       "      <td>65.0</td>\n",
       "      <td>73.9</td>\n",
       "      <td>82.6</td>\n",
       "      <td>65.0</td>\n",
       "      <td>73.9</td>\n",
       "      <td>...</td>\n",
       "      <td>15.5</td>\n",
       "      <td>194.4</td>\n",
       "      <td>1011.5</td>\n",
       "      <td>68.3</td>\n",
       "      <td>9.9</td>\n",
       "      <td>198.2</td>\n",
       "      <td>17.0</td>\n",
       "      <td>10</td>\n",
       "      <td>0.74</td>\n",
       "      <td>partly-cloudy-day</td>\n",
       "    </tr>\n",
       "  </tbody>\n",
       "</table>\n",
       "<p>90 rows × 27 columns</p>\n",
       "</div>"
      ],
      "text/plain": [
       "          date  PU_ct  DO_ct   datetime  tempmax  tempmin  temp  feelslikemax  \\\n",
       "0   2024-02-01     33     33 2024-02-01     53.0     31.7  42.4          53.0   \n",
       "1   2024-02-02     23     25 2024-02-02     51.8     44.0  47.1          51.8   \n",
       "2   2024-02-03     22     20 2024-02-03     51.0     35.8  42.2          51.0   \n",
       "3   2024-02-04     18     19 2024-02-04     51.2     32.7  41.7          51.2   \n",
       "4   2024-02-05     19     23 2024-02-05     51.8     32.5  41.0          51.8   \n",
       "..         ...    ...    ...        ...      ...      ...   ...           ...   \n",
       "85  2024-04-26     33     39 2024-04-26     64.9     45.5  55.2          64.9   \n",
       "86  2024-04-27     18     24 2024-04-27     60.1     51.9  55.7          60.1   \n",
       "87  2024-04-28     36     28 2024-04-28     83.1     55.8  67.0          83.3   \n",
       "88  2024-04-29     37     38 2024-04-29     88.3     62.7  75.2          88.9   \n",
       "89  2024-04-30     40     39 2024-04-30     82.4     65.0  73.9          82.6   \n",
       "\n",
       "    feelslikemin  feelslike  ...  windspeed  winddir  sealevelpressure  \\\n",
       "0           26.4       39.3  ...       12.0    190.8            1016.3   \n",
       "1           36.6       44.4  ...       19.1    354.3            1012.8   \n",
       "2           28.0       37.6  ...       14.7    354.9            1018.2   \n",
       "3           27.4       40.7  ...        9.2     87.4            1016.0   \n",
       "4           26.0       37.8  ...       12.2     34.9            1013.8   \n",
       "..           ...        ...  ...        ...      ...               ...   \n",
       "85          41.5       54.2  ...       15.4    116.4            1029.5   \n",
       "86          51.9       55.7  ...       10.0    149.9            1030.1   \n",
       "87          55.8       67.1  ...       10.0    170.0            1021.3   \n",
       "88          62.7       75.3  ...       13.0    177.3            1015.6   \n",
       "89          65.0       73.9  ...       15.5    194.4            1011.5   \n",
       "\n",
       "    cloudcover  visibility  solarradiation  solarenergy  uvindex  moonphase  \\\n",
       "0         43.3         8.4           136.8         11.8        5       0.73   \n",
       "1         97.3         9.8            51.7          4.4        2       0.75   \n",
       "2         11.0         9.9           143.9         12.5        6       0.79   \n",
       "3          9.0         9.9           147.4         12.8        6       0.83   \n",
       "4         21.4         9.9           145.3         12.7        6       0.86   \n",
       "..         ...         ...             ...          ...      ...        ...   \n",
       "85        69.1         9.9           215.0         18.5        9       0.59   \n",
       "86        97.3         9.7            44.0          3.9        2       0.63   \n",
       "87        62.1         9.8           213.6         18.5        9       0.67   \n",
       "88        35.8         9.9           204.5         17.8        9       0.70   \n",
       "89        68.3         9.9           198.2         17.0       10       0.74   \n",
       "\n",
       "                 icon  \n",
       "0   partly-cloudy-day  \n",
       "1                rain  \n",
       "2           clear-day  \n",
       "3           clear-day  \n",
       "4   partly-cloudy-day  \n",
       "..                ...  \n",
       "85  partly-cloudy-day  \n",
       "86               rain  \n",
       "87  partly-cloudy-day  \n",
       "88  partly-cloudy-day  \n",
       "89  partly-cloudy-day  \n",
       "\n",
       "[90 rows x 27 columns]"
      ]
     },
     "execution_count": 13,
     "metadata": {},
     "output_type": "execute_result"
    }
   ],
   "source": [
    "# Convert the 'datetime' column to datetime objects and extract the date\n",
    "df_weather['datetime'] = pd.to_datetime(df_weather['datetime'])\n",
    "df_weather['date'] = df_weather['datetime'].dt.date\n",
    "\n",
    "# Merge the two dataframes based on the 'date' column\n",
    "merged_df = pd.merge(PU_DO_counts, df_weather, on='date', how='left')\n",
    "\n",
    "# Display the merged dataframe\n",
    "merged_df"
   ]
  },
  {
   "cell_type": "code",
   "execution_count": 14,
   "id": "3e5059bf",
   "metadata": {
    "colab": {
     "base_uri": "https://localhost:8080/",
     "height": 1000
    },
    "executionInfo": {
     "elapsed": 7704,
     "status": "ok",
     "timestamp": 1737429127374,
     "user": {
      "displayName": "Long He",
      "userId": "13831194534397991444"
     },
     "user_tz": 300
    },
    "id": "3e5059bf",
    "outputId": "9d58c355-bd0c-4816-970b-73d7f1f30264"
   },
   "outputs": [
    {
     "data": {
      "text/plain": [
       "<seaborn.axisgrid.PairGrid at 0x1ee151d7b60>"
      ]
     },
     "execution_count": 14,
     "metadata": {},
     "output_type": "execute_result"
    },
    {
     "data": {
      "image/png": "[encoded data removed]",
      "text/plain": [
       "<Figure size 1250x1250 with 30 Axes>"
      ]
     },
     "metadata": {},
     "output_type": "display_data"
    }
   ],
   "source": [
    "import seaborn as sns\n",
    "sns.pairplot(merged_df[['PU_ct',\"temp\", \"precip\", \"windspeed\",\"uvindex\"]], kind=\"reg\",plot_kws=dict(scatter_kws=dict(s=2), line_kws = {'color':'black'})) # pairplot for PU_ct"
   ]
  },
  {
   "cell_type": "code",
   "execution_count": 15,
   "id": "bc95c103-f9ac-4c1c-8a27-cf11575c93e1",
   "metadata": {},
   "outputs": [
    {
     "data": {
      "text/plain": [
       "icon\n",
       "partly-cloudy-day    50\n",
       "rain                 31\n",
       "clear-day             7\n",
       "snow                  1\n",
       "cloudy                1\n",
       "Name: count, dtype: int64"
      ]
     },
     "execution_count": 15,
     "metadata": {},
     "output_type": "execute_result"
    }
   ],
   "source": [
    "# value counts of different icon variable\n",
    "merged_df['icon'].value_counts()"
   ]
  },
  {
   "cell_type": "markdown",
   "id": "148aa659-cb57-4169-8bd7-2745e9e65eb8",
   "metadata": {},
   "source": [
    "# Prepare training and test data"
   ]
  },
  {
   "cell_type": "code",
   "execution_count": 16,
   "id": "a1906002-8125-4494-892d-5a6a619cc4f2",
   "metadata": {},
   "outputs": [
    {
     "data": {
      "text/html": [
       "<div>\n",
       "<style scoped>\n",
       "    .dataframe tbody tr th:only-of-type {\n",
       "        vertical-align: middle;\n",
       "    }\n",
       "\n",
       "    .dataframe tbody tr th {\n",
       "        vertical-align: top;\n",
       "    }\n",
       "\n",
       "    .dataframe thead th {\n",
       "        text-align: right;\n",
       "    }\n",
       "</style>\n",
       "<table border=\"1\" class=\"dataframe\">\n",
       "  <thead>\n",
       "    <tr style=\"text-align: right;\">\n",
       "      <th></th>\n",
       "      <th>temp</th>\n",
       "      <th>precip</th>\n",
       "      <th>windspeed</th>\n",
       "      <th>uvindex</th>\n",
       "      <th>icon</th>\n",
       "    </tr>\n",
       "  </thead>\n",
       "  <tbody>\n",
       "    <tr>\n",
       "      <th>0</th>\n",
       "      <td>42.4</td>\n",
       "      <td>0.000</td>\n",
       "      <td>12.0</td>\n",
       "      <td>5</td>\n",
       "      <td>partly-cloudy-day</td>\n",
       "    </tr>\n",
       "    <tr>\n",
       "      <th>1</th>\n",
       "      <td>47.1</td>\n",
       "      <td>0.012</td>\n",
       "      <td>19.1</td>\n",
       "      <td>2</td>\n",
       "      <td>rain</td>\n",
       "    </tr>\n",
       "    <tr>\n",
       "      <th>2</th>\n",
       "      <td>42.2</td>\n",
       "      <td>0.000</td>\n",
       "      <td>14.7</td>\n",
       "      <td>6</td>\n",
       "      <td>clear-day</td>\n",
       "    </tr>\n",
       "    <tr>\n",
       "      <th>3</th>\n",
       "      <td>41.7</td>\n",
       "      <td>0.000</td>\n",
       "      <td>9.2</td>\n",
       "      <td>6</td>\n",
       "      <td>clear-day</td>\n",
       "    </tr>\n",
       "    <tr>\n",
       "      <th>4</th>\n",
       "      <td>41.0</td>\n",
       "      <td>0.000</td>\n",
       "      <td>12.2</td>\n",
       "      <td>6</td>\n",
       "      <td>partly-cloudy-day</td>\n",
       "    </tr>\n",
       "    <tr>\n",
       "      <th>...</th>\n",
       "      <td>...</td>\n",
       "      <td>...</td>\n",
       "      <td>...</td>\n",
       "      <td>...</td>\n",
       "      <td>...</td>\n",
       "    </tr>\n",
       "    <tr>\n",
       "      <th>85</th>\n",
       "      <td>55.2</td>\n",
       "      <td>0.000</td>\n",
       "      <td>15.4</td>\n",
       "      <td>9</td>\n",
       "      <td>partly-cloudy-day</td>\n",
       "    </tr>\n",
       "    <tr>\n",
       "      <th>86</th>\n",
       "      <td>55.7</td>\n",
       "      <td>0.032</td>\n",
       "      <td>10.0</td>\n",
       "      <td>2</td>\n",
       "      <td>rain</td>\n",
       "    </tr>\n",
       "    <tr>\n",
       "      <th>87</th>\n",
       "      <td>67.0</td>\n",
       "      <td>0.000</td>\n",
       "      <td>10.0</td>\n",
       "      <td>9</td>\n",
       "      <td>partly-cloudy-day</td>\n",
       "    </tr>\n",
       "    <tr>\n",
       "      <th>88</th>\n",
       "      <td>75.2</td>\n",
       "      <td>0.000</td>\n",
       "      <td>13.0</td>\n",
       "      <td>9</td>\n",
       "      <td>partly-cloudy-day</td>\n",
       "    </tr>\n",
       "    <tr>\n",
       "      <th>89</th>\n",
       "      <td>73.9</td>\n",
       "      <td>0.000</td>\n",
       "      <td>15.5</td>\n",
       "      <td>10</td>\n",
       "      <td>partly-cloudy-day</td>\n",
       "    </tr>\n",
       "  </tbody>\n",
       "</table>\n",
       "<p>90 rows × 5 columns</p>\n",
       "</div>"
      ],
      "text/plain": [
       "    temp  precip  windspeed  uvindex               icon\n",
       "0   42.4   0.000       12.0        5  partly-cloudy-day\n",
       "1   47.1   0.012       19.1        2               rain\n",
       "2   42.2   0.000       14.7        6          clear-day\n",
       "3   41.7   0.000        9.2        6          clear-day\n",
       "4   41.0   0.000       12.2        6  partly-cloudy-day\n",
       "..   ...     ...        ...      ...                ...\n",
       "85  55.2   0.000       15.4        9  partly-cloudy-day\n",
       "86  55.7   0.032       10.0        2               rain\n",
       "87  67.0   0.000       10.0        9  partly-cloudy-day\n",
       "88  75.2   0.000       13.0        9  partly-cloudy-day\n",
       "89  73.9   0.000       15.5       10  partly-cloudy-day\n",
       "\n",
       "[90 rows x 5 columns]"
      ]
     },
     "execution_count": 16,
     "metadata": {},
     "output_type": "execute_result"
    }
   ],
   "source": [
    "# we have two target variables: PU_ct and DO_ct\n",
    "y = merged_df[['PU_ct','DO_ct']]\n",
    "X = merged_df[['temp','precip','windspeed','uvindex','icon']]\n",
    "X"
   ]
  },
  {
   "cell_type": "code",
   "execution_count": 17,
   "id": "5fcef27b",
   "metadata": {
    "id": "5fcef27b"
   },
   "outputs": [],
   "source": [
    "from sklearn.model_selection import train_test_split\n",
    "\n",
    "X_train,X_test, y_train,y_test = train_test_split(X,y, test_size=0.4, random_state = 200) # 40% test data"
   ]
  },
  {
   "cell_type": "markdown",
   "id": "Cm3JSn4w2SmI",
   "metadata": {
    "id": "Cm3JSn4w2SmI"
   },
   "source": [
    "# **Regression Models**"
   ]
  },
  {
   "cell_type": "markdown",
   "id": "496c913c-667a-47b6-a4de-cff761f599cd",
   "metadata": {},
   "source": [
    "# **DO_ct prediction**"
   ]
  },
  {
   "cell_type": "markdown",
   "id": "NHEwVXx37tJT",
   "metadata": {
    "id": "NHEwVXx37tJT"
   },
   "source": [
    "# Training a linear regression model with features ('temp','precip','windspeed','uvindex','icon') for PU_ct, and report the training and test MSE, respectively."
   ]
  },
  {
   "cell_type": "code",
   "execution_count": 18,
   "id": "1136aaf0-3e78-4efe-9d7e-316101b28f70",
   "metadata": {},
   "outputs": [],
   "source": [
    "# One-hot encode the categorical variable 'icon' and include all features\n",
    "X_full = pd.get_dummies(data=X, drop_first=True)  # Drop first to avoid multicollinearity\n",
    "\n",
    "# Split the encoded dataset into training and testing sets\n",
    "X_train_full, X_test_full, y_train_full, y_test_full = train_test_split(\n",
    "    X_full, y, test_size=0.4, random_state=200\n",
    ")\n",
    "\n",
    "# Select the four continuous features and the one-hot encoded 'icon' variables\n",
    "X_full_train = X_train_full\n",
    "X_full_test = X_test_full\n",
    "\n",
    "# Select the target variable\n",
    "y_PU_ct_train = y_train_full['PU_ct']\n",
    "y_PU_ct_test = y_test_full['PU_ct']"
   ]
  },
  {
   "cell_type": "code",
   "execution_count": 19,
   "id": "8f92aeab-f0a8-4ead-8f64-ea82e2ae4079",
   "metadata": {},
   "outputs": [
    {
     "name": "stdout",
     "output_type": "stream",
     "text": [
      "Intercept: \n",
      " -3.0760066630016745\n",
      "temp                      2.888925e-01\n",
      "precip                   -1.742346e+00\n",
      "windspeed                -1.924610e-01\n",
      "uvindex                   1.848425e+00\n",
      "icon_cloudy              -6.217249e-15\n",
      "icon_partly-cloudy-day    7.874451e+00\n",
      "icon_rain                 8.409099e+00\n",
      "icon_snow                -8.136442e+00\n",
      "dtype: float64\n"
     ]
    }
   ],
   "source": [
    "from sklearn.linear_model import LinearRegression\n",
    "from sklearn.metrics import mean_squared_error, r2_score\n",
    "\n",
    "# Create linear regression object\n",
    "regr = LinearRegression()\n",
    "\n",
    "# Train the model using the training sets\n",
    "regr.fit(X_full_train, y_PU_ct_train)\n",
    "\n",
    "# The intercept\n",
    "print(\"Intercept: \\n\", regr.intercept_)\n",
    "# The coefficients\n",
    "print(pd.Series(regr.coef_.flatten(), index=X_full_train.columns))"
   ]
  },
  {
   "cell_type": "markdown",
   "id": "37aec283-5b98-4d2b-8940-381e8ac2d479",
   "metadata": {},
   "source": [
    "#### In-sample performance in training data"
   ]
  },
  {
   "cell_type": "code",
   "execution_count": 20,
   "id": "f1ddd5e9-36fa-455c-9ffd-b1eac20c6e6c",
   "metadata": {},
   "outputs": [
    {
     "name": "stdout",
     "output_type": "stream",
     "text": [
      "Training MSE: 45.62\n",
      "Training R²: 0.51\n"
     ]
    }
   ],
   "source": [
    "from sklearn.metrics import mean_squared_error, r2_score\n",
    "\n",
    "# Make predictions using the training data\n",
    "y_PU_ct_train_pred = regr.predict(X_full_train)\n",
    "\n",
    "# Calculate MSE and R² for training data\n",
    "print(\"Training MSE: %.2f\" % mean_squared_error(y_PU_ct_train, y_PU_ct_train_pred))\n",
    "print(\"Training R²: %.2f\" % r2_score(y_PU_ct_train, y_PU_ct_train_pred))"
   ]
  },
  {
   "cell_type": "markdown",
   "id": "221a3759-89b5-4cfe-af5f-984c64fd1896",
   "metadata": {},
   "source": [
    "#### Out-of-sample performance in test data"
   ]
  },
  {
   "cell_type": "code",
   "execution_count": 21,
   "id": "3b2afe63-7329-4242-8b4d-5ce3e6a5b24a",
   "metadata": {},
   "outputs": [
    {
     "name": "stdout",
     "output_type": "stream",
     "text": [
      "Testing MSE: 59.66\n",
      "Testing R²: 0.29\n"
     ]
    }
   ],
   "source": [
    "# Make predictions using the testing data\n",
    "y_PU_ct_test_pred = regr.predict(X_full_test)\n",
    "\n",
    "# Calculate MSE and R² for testing data\n",
    "print(\"Testing MSE: %.2f\" % mean_squared_error(y_PU_ct_test, y_PU_ct_test_pred))\n",
    "print(\"Testing R²: %.2f\" % r2_score(y_PU_ct_test, y_PU_ct_test_pred))"
   ]
  },
  {
   "cell_type": "markdown",
   "id": "Ksx5Iahn9Byy",
   "metadata": {
    "id": "Ksx5Iahn9Byy"
   },
   "source": [
    "## Ploting the changes in training and test MSEs as more features are added to the linear regression model."
   ]
  },
  {
   "cell_type": "markdown",
   "id": "acb3b508-9c25-4569-8710-4067bea5abcf",
   "metadata": {},
   "source": [
    "#### Results based on changes in training and test MSEs"
   ]
  },
  {
   "cell_type": "code",
   "execution_count": 22,
   "id": "d98e50c5-bdde-494b-a4b1-82dd278ecb13",
   "metadata": {},
   "outputs": [
    {
     "data": {
      "image/png": "[encoded data removed]",
      "text/plain": [
       "<Figure size 1000x600 with 1 Axes>"
      ]
     },
     "metadata": {},
     "output_type": "display_data"
    }
   ],
   "source": [
    "import pandas as pd\n",
    "import matplotlib.pyplot as plt\n",
    "from sklearn.model_selection import train_test_split\n",
    "from sklearn.linear_model import LinearRegression\n",
    "from sklearn.metrics import mean_squared_error\n",
    "\n",
    "# Define the features to be added incrementally\n",
    "feature_sets = [\n",
    "    ['temp'],  # Task 1\n",
    "    ['temp', 'precip'],  # Task 2\n",
    "    ['temp', 'precip', 'windspeed'],  # Task 3\n",
    "    ['temp', 'precip', 'windspeed', 'uvindex'],  # Task 4\n",
    "    ['temp', 'precip', 'windspeed', 'uvindex', 'icon']  # Task 5\n",
    "]\n",
    "\n",
    "# Initialize lists to store MSEs\n",
    "train_mse_list = []\n",
    "test_mse_list = []\n",
    "\n",
    "# Iterate over feature sets and compute MSEs\n",
    "for features in feature_sets:\n",
    "    # One-hot encode 'icon' only if it's part of the features\n",
    "    if 'icon' in features:\n",
    "        X_subset = pd.get_dummies(X[features], drop_first=True)\n",
    "    else:\n",
    "        X_subset = X[features]\n",
    "    \n",
    "    # Ensure y is always a DataFrame, even if we select a single column\n",
    "    y_target = y[['PU_ct']]  # Keeping it as a DataFrame\n",
    "    \n",
    "    # Split the data into training and test sets\n",
    "    X_train, X_test, y_train, y_test = train_test_split(X_subset, y_target, test_size=0.4, random_state=200)\n",
    "    \n",
    "    # Train the linear regression model\n",
    "    model = LinearRegression()\n",
    "    model.fit(X_train, y_train)\n",
    "    \n",
    "    # Compute predictions and MSEs\n",
    "    y_train_pred = model.predict(X_train)\n",
    "    y_test_pred = model.predict(X_test)\n",
    "    \n",
    "    train_mse = mean_squared_error(y_train, y_train_pred)\n",
    "    test_mse = mean_squared_error(y_test, y_test_pred)\n",
    "    \n",
    "    # Store the MSEs\n",
    "    train_mse_list.append(train_mse)\n",
    "    test_mse_list.append(test_mse)\n",
    "\n",
    "# Plot the results\n",
    "plt.figure(figsize=(10, 6))\n",
    "plt.plot(range(1, len(feature_sets) + 1), train_mse_list, marker='o', label='Training MSE')\n",
    "plt.plot(range(1, len(feature_sets) + 1), test_mse_list, marker='o', label='Testing MSE')\n",
    "plt.xticks(range(1, len(feature_sets) + 1), ['Task 1', 'Task 2', 'Task 3', 'Task 4', 'Task 5'])\n",
    "plt.xlabel('Tasks / Number of Features Added')\n",
    "plt.ylabel('MSE')\n",
    "plt.title('Training and Testing MSE vs. Number of Features')\n",
    "plt.legend()\n",
    "plt.grid(True)\n",
    "plt.show()\n"
   ]
  },
  {
   "cell_type": "markdown",
   "id": "d9d49934-07f0-43d4-8ce5-8a683122632a",
   "metadata": {},
   "source": [
    "#### Results based on changes in training and test R square"
   ]
  },
  {
   "cell_type": "markdown",
   "id": "CdjgaV42CkBx",
   "metadata": {
    "id": "CdjgaV42CkBx"
   },
   "source": [
    "# Identifying the best combination of features for PU_ct prediction in linear regression."
   ]
  },
  {
   "cell_type": "markdown",
   "id": "80ef2b3b-9a2b-47f8-adfb-bfe4d5a93bee",
   "metadata": {
    "id": "ynTS-LY3HulS"
   },
   "source": [
    "# **Selecting the Best Feature Combination Based on MSE**\n",
    "### **Understanding the MSE Trend**\n",
    "- Mean Squared Error (MSE) evaluates how well our model's predictions match actual values.  \n",
    "- A **lower MSE** is better, indicating that the model makes more accurate predictions.\n",
    "\n",
    "### **Analysis of Training and Testing MSE vs. Number of Features**\n",
    "1. **Task 1 (Single Feature: `temp`)**\n",
    "   - The MSE is relatively high, indicating temperature alone is not a strong predictor.\n",
    "  \n",
    "2. **Task 2 (Adding `precip`)**\n",
    "   - The training and test MSE decrease, meaning precipitation adds useful predictive information.\n",
    "\n",
    "3. **Task 3 (Adding `windspeed`)**\n",
    "   - Training MSE remains stable, but test MSE slightly increases.\n",
    "   - This suggests that windspeed does not significantly improve prediction.\n",
    "\n",
    "4. **Task 4 (Adding `uvindex`) → Best Model Based on MSE**\n",
    "   - The **lowest test MSE** is achieved.\n",
    "   - This indicates `uvindex` is an important feature that improves prediction.\n",
    "\n",
    "5. **Task 5 (Adding `icon`) → Overfitting or Poor Feature**\n",
    "   - The test MSE **increases**, while training MSE continues to decrease.\n",
    "   - This is a sign of **overfitting**, meaning `icon` does not generalize well.\n",
    "\n",
    "### **Final Conclusion**\n",
    "- **Best feature set for PU_ct prediction in linear regression: `{temp, precip, windspeed, uvindex}` (Task 4)**  \n",
    "- Adding `icon` (Task 5) results in **overfitting** and worsens test performance."
   ]
  },
  {
   "cell_type": "markdown",
   "id": "4c25cd92-b553-423f-bb48-4ffea429e647",
   "metadata": {},
   "source": [
    "#### **Understanding the R² Plot:**\n",
    "- The **training R²** consistently increases as more features are added.  \n",
    "  - This is expected since adding more features improves the model’s fit to the training data.\n",
    "- The **testing R²** follows an increasing trend but **peaks at Task 4** and then drops at Task 5, indicating **overfitting**.\n",
    "\n",
    "### **Key Takeaway:**\n",
    "- **Task 4 provides the optimal trade-off between bias and variance**:\n",
    "  - It achieves a good fit to the training data while maintaining generalizability to unseen test data.\n",
    "- **Task 5 (adding `icon`) results in a drop in test R²**, meaning:\n",
    "  - The model explains **less variance** in the test data.\n",
    "  - This confirms **overfitting**, where the model learns patterns that do not generalize well.\n",
    "\n",
    "### **Final Conclusion:**\n",
    "- **Best feature set for linear regression: `{temp, precip, windspeed, uvindex}` (Task 4).**\n",
    "- Avoid adding `icon`, as it leads to **overfitting and reduced generalizability**."
   ]
  },
  {
   "cell_type": "markdown",
   "id": "3FSL193gC8d_",
   "metadata": {
    "id": "3FSL193gC8d_"
   },
   "source": [
    "# **DO_ct prediction**"
   ]
  },
  {
   "cell_type": "markdown",
   "id": "a60f3e8b-4009-4b40-ae32-554dcfd8398c",
   "metadata": {},
   "source": [
    "## Training a linear regression model with features ('temp','precip','windspeed','uvindex','icon') for DO_ct, and report the training and test MSE, respectively."
   ]
  },
  {
   "cell_type": "code",
   "execution_count": 23,
   "id": "e35c5c61-812c-4492-bc0e-0b8eb8799b50",
   "metadata": {},
   "outputs": [],
   "source": [
    "# One-hot encode the categorical variable 'icon' and include all features\n",
    "X_full = pd.get_dummies(data=X, drop_first=True)  # Drop first to avoid multicollinearity\n",
    "\n",
    "# Split the encoded dataset into training and testing sets\n",
    "X_train_full, X_test_full, y_train_full, y_test_full = train_test_split(\n",
    "    X_full, y, test_size=0.4, random_state=200\n",
    ")\n",
    "\n",
    "# Select the four continuous features and the one-hot encoded 'icon' variables\n",
    "X_full_train = X_train_full\n",
    "X_full_test = X_test_full\n",
    "\n",
    "# Select the target variable\n",
    "y_Do_ct_train = y_train_full['DO_ct']\n",
    "y_Do_ct_test = y_test_full['DO_ct']"
   ]
  },
  {
   "cell_type": "code",
   "execution_count": 24,
   "id": "311b2714-30c7-4126-8a37-758dfe607b85",
   "metadata": {},
   "outputs": [
    {
     "name": "stdout",
     "output_type": "stream",
     "text": [
      "Intercept: \n",
      " 0.23970875598865504\n",
      "temp                      3.272803e-01\n",
      "precip                   -7.227688e+00\n",
      "windspeed                -1.753407e-01\n",
      "uvindex                   1.615548e+00\n",
      "icon_cloudy              -8.881784e-15\n",
      "icon_partly-cloudy-day    3.995943e+00\n",
      "icon_rain                 4.888572e+00\n",
      "icon_snow                -7.475668e+00\n",
      "dtype: float64\n"
     ]
    }
   ],
   "source": [
    "from sklearn.linear_model import LinearRegression\n",
    "from sklearn.metrics import mean_squared_error, r2_score\n",
    "\n",
    "# Create linear regression object\n",
    "regr = LinearRegression()\n",
    "\n",
    "# Train the model using the training sets\n",
    "regr.fit(X_full_train, y_Do_ct_train)\n",
    "\n",
    "# The intercept\n",
    "print(\"Intercept: \\n\", regr.intercept_)\n",
    "# The coefficients\n",
    "print(pd.Series(regr.coef_.flatten(), index=X_full_train.columns))"
   ]
  },
  {
   "cell_type": "markdown",
   "id": "71f0b104-5173-4e47-92d8-5f026055d971",
   "metadata": {},
   "source": [
    "## In-sample performance in training data"
   ]
  },
  {
   "cell_type": "code",
   "execution_count": 25,
   "id": "5c988c38-6bee-45ac-bbc2-4360e2292e0c",
   "metadata": {},
   "outputs": [
    {
     "name": "stdout",
     "output_type": "stream",
     "text": [
      "Training MSE: 48.88\n",
      "Training R²: 0.50\n"
     ]
    }
   ],
   "source": [
    "from sklearn.metrics import mean_squared_error, r2_score\n",
    "\n",
    "# Make predictions using the training data\n",
    "y_Do_ct_train_pred = regr.predict(X_full_train)\n",
    "\n",
    "# Calculate MSE and R² for training data\n",
    "print(\"Training MSE: %.2f\" % mean_squared_error(y_Do_ct_train, y_Do_ct_train_pred))\n",
    "print(\"Training R²: %.2f\" % r2_score(y_Do_ct_train, y_Do_ct_train_pred))"
   ]
  },
  {
   "cell_type": "markdown",
   "id": "6896214f-edaf-477b-8544-43073d1dfc7a",
   "metadata": {},
   "source": [
    "## Out-of-sample performance in training data"
   ]
  },
  {
   "cell_type": "code",
   "execution_count": 26,
   "id": "6200d0aa-c0bc-40e3-9069-690bb8ae3831",
   "metadata": {},
   "outputs": [
    {
     "name": "stdout",
     "output_type": "stream",
     "text": [
      "Testing MSE: 65.20\n",
      "Testing R²: 0.25\n"
     ]
    }
   ],
   "source": [
    "# Make predictions using the testing data\n",
    "y_Do_ct_test_pred = regr.predict(X_full_test)\n",
    "\n",
    "# Calculate MSE and R² for testing data\n",
    "print(\"Testing MSE: %.2f\" % mean_squared_error(y_Do_ct_test, y_Do_ct_test_pred))\n",
    "print(\"Testing R²: %.2f\" % r2_score(y_Do_ct_test, y_Do_ct_test_pred))"
   ]
  },
  {
   "cell_type": "markdown",
   "id": "6827b9e4-ec07-4a3d-a08c-d08c21eb5279",
   "metadata": {},
   "source": [
    "## Ploting the changes in training and test MSEs as more features are added to the linear regression model."
   ]
  },
  {
   "cell_type": "markdown",
   "id": "44f10a09-b2c7-4728-96ff-7ed0bd1514e0",
   "metadata": {},
   "source": [
    "#### Results based on changes in training and test MSEs"
   ]
  },
  {
   "cell_type": "code",
   "execution_count": 27,
   "id": "81673d68-4510-4936-ae24-b2739f65dcd9",
   "metadata": {},
   "outputs": [
    {
     "data": {
      "image/png": "[encoded data removed]",
      "text/plain": [
       "<Figure size 1000x600 with 1 Axes>"
      ]
     },
     "metadata": {},
     "output_type": "display_data"
    }
   ],
   "source": [
    "import pandas as pd\n",
    "import matplotlib.pyplot as plt\n",
    "from sklearn.model_selection import train_test_split\n",
    "from sklearn.linear_model import LinearRegression\n",
    "from sklearn.metrics import mean_squared_error\n",
    "\n",
    "# Define the features to be added incrementally\n",
    "feature_sets = [\n",
    "    ['temp'],  # Task 1\n",
    "    ['temp', 'precip'],  # Task 2\n",
    "    ['temp', 'precip', 'windspeed'],  # Task 3\n",
    "    ['temp', 'precip', 'windspeed', 'uvindex'],  # Task 4\n",
    "    ['temp', 'precip', 'windspeed', 'uvindex', 'icon']  # Task 5\n",
    "]\n",
    "\n",
    "# Initialize lists to store MSEs\n",
    "train_mse_list = []\n",
    "test_mse_list = []\n",
    "\n",
    "# Iterate over feature sets and compute MSEs\n",
    "for features in feature_sets:\n",
    "    # One-hot encode 'icon' only if it's part of the features\n",
    "    if 'icon' in features:\n",
    "        X_subset = pd.get_dummies(X[features], drop_first=True)\n",
    "    else:\n",
    "        X_subset = X[features]\n",
    "    \n",
    "    # Ensure y is always a DataFrame, even if we select a single column\n",
    "    y_target = y[['DO_ct']]  # Keeping it as a DataFrame\n",
    "    \n",
    "    # Split the data into training and test sets\n",
    "    X_train, X_test, y_train, y_test = train_test_split(X_subset, y_target, test_size=0.4, random_state=200)\n",
    "    \n",
    "    # Train the linear regression model\n",
    "    model = LinearRegression()\n",
    "    model.fit(X_train, y_train)\n",
    "    \n",
    "    # Compute predictions and MSEs\n",
    "    y_train_pred = model.predict(X_train)\n",
    "    y_test_pred = model.predict(X_test)\n",
    "    \n",
    "    train_mse = mean_squared_error(y_train, y_train_pred)\n",
    "    test_mse = mean_squared_error(y_test, y_test_pred)\n",
    "    \n",
    "    # Store the MSEs\n",
    "    train_mse_list.append(train_mse)\n",
    "    test_mse_list.append(test_mse)\n",
    "\n",
    "# Plot the results\n",
    "plt.figure(figsize=(10, 6))\n",
    "plt.plot(range(1, len(feature_sets) + 1), train_mse_list, marker='o', label='Training MSE')\n",
    "plt.plot(range(1, len(feature_sets) + 1), test_mse_list, marker='o', label='Testing MSE')\n",
    "plt.xticks(range(1, len(feature_sets) + 1), ['Task 1', 'Task 2', 'Task 3', 'Task 4', 'Task 5'])\n",
    "plt.xlabel('Tasks / Number of Features Added')\n",
    "plt.ylabel('MSE')\n",
    "plt.title('Training and Testing MSE vs. Number of Features')\n",
    "plt.legend()\n",
    "plt.grid(True)\n",
    "plt.show()"
   ]
  },
  {
   "cell_type": "markdown",
   "id": "48e32859-d729-45f7-90d4-29ccd05a072a",
   "metadata": {},
   "source": [
    "# Identifying the best combination of features for DO_ct prediction in linear regression."
   ]
  },
  {
   "cell_type": "markdown",
   "id": "d8aa8b10-f302-4be8-8e3e-6192d3191efa",
   "metadata": {},
   "source": [
    "# **Selecting the Best Feature Combination Based on MSE**\n",
    "### **Understanding the MSE Trend**\n",
    "- Mean Squared Error (MSE) evaluates how well our model's predictions match actual values.  \n",
    "- A **lower MSE** is better, indicating that the model makes more accurate predictions.\n",
    "\n",
    "### **Analysis of Training and Testing MSE vs. Number of Features**\n",
    "1. **Task 1 (Single Feature: `temp`)**\n",
    "   - The MSE is relatively high, indicating temperature alone is not a strong predictor.\n",
    "  \n",
    "2. **Task 2 (Adding `precip`)**\n",
    "   - The training and test MSE decrease, meaning precipitation adds useful predictive information.\n",
    "\n",
    "3. **Task 3 (Adding `windspeed`)**\n",
    "   - Training MSE remains stable, but test MSE slightly increases.\n",
    "   - This suggests that windspeed does not significantly improve prediction.\n",
    "\n",
    "4. **Task 4 (Adding `uvindex`) → Best Model Based on MSE**\n",
    "   - The **lowest test MSE** is achieved.\n",
    "   - This indicates `uvindex` is an important feature that improves prediction.\n",
    "\n",
    "5. **Task 5 (Adding `icon`) → Overfitting or Poor Feature**\n",
    "   - The test MSE **increases**, while training MSE continues to decrease.\n",
    "   - This is a sign of **overfitting**, meaning `icon` does not generalize well.\n",
    "\n",
    "### **Final Conclusion**\n",
    "- **Best feature set for DO_ct prediction in linear regression: `{temp, precip, windspeed, uvindex}` (Task 4)**  \n",
    "- Adding `icon` (Task 5) results in **overfitting** and worsens test performance.\n"
   ]
  },
  {
   "cell_type": "markdown",
   "id": "214496c2-c973-4b11-9107-920a74ca8078",
   "metadata": {},
   "source": [
    "# **Classification Models**\n",
    "\n",
    "### Our intuition is to allocate more bikes if PU_ct > DO_ct; and less bikes if PU_ct < DO_ct. Thus, we want to predict whether PU_ct > DO_ct. We first create a new target variable to indicate whether PU_ct > DO_ct."
   ]
  },
  {
   "cell_type": "markdown",
   "id": "dced3c2d-b3e6-49d1-a391-e9eba805ef86",
   "metadata": {},
   "source": [
    "### Create categorical target variable"
   ]
  },
  {
   "cell_type": "code",
   "execution_count": 28,
   "id": "c4eff703-162e-4257-89ad-07c4d31da0d2",
   "metadata": {},
   "outputs": [],
   "source": [
    "from sklearn.model_selection import train_test_split\n",
    "\n",
    "X_train,X_test, y_train,y_test = train_test_split(X,y, test_size=0.4, random_state = 200) # 40% test data"
   ]
  },
  {
   "cell_type": "code",
   "execution_count": 29,
   "id": "372c815a-41fd-4c83-98c9-36bb7287979f",
   "metadata": {},
   "outputs": [],
   "source": [
    "# create a new variable to indicate if PU_ct>DO_ct in y_train and y_test\n",
    "\n",
    "y_train['PU_gt_DO'] = y_train['PU_ct'] > y_train['DO_ct']\n",
    "y_test['PU_gt_DO'] = y_test['PU_ct'] > y_test['DO_ct']"
   ]
  },
  {
   "cell_type": "markdown",
   "id": "8f3ca331-a710-4b66-a78c-47ed2aff9d63",
   "metadata": {},
   "source": [
    "### Dummy encoding of categorical feature 'icon' before training"
   ]
  },
  {
   "cell_type": "code",
   "execution_count": 30,
   "id": "9312f7aa-69b2-41c6-8116-a5fb5bf7b1ad",
   "metadata": {},
   "outputs": [],
   "source": [
    "# get dummies in X_train_PU\n",
    "X_train = pd.get_dummies(X_train, columns=['icon'], prefix='icon',drop_first=True)\n",
    "# get dummies in X_test_PU\n",
    "X_test = pd.get_dummies(X_test, columns=['icon'], prefix='icon',drop_first=True)\n",
    "\n",
    "# Ensure both training and testing sets have the same columns\n",
    "X_test = X_test.reindex(columns=X_train.columns, fill_value=0)"
   ]
  },
  {
   "cell_type": "code",
   "execution_count": 31,
   "id": "e6270422-c57e-4f3d-8635-ce463c9ed32e",
   "metadata": {},
   "outputs": [
    {
     "data": {
      "text/html": [
       "<div>\n",
       "<style scoped>\n",
       "    .dataframe tbody tr th:only-of-type {\n",
       "        vertical-align: middle;\n",
       "    }\n",
       "\n",
       "    .dataframe tbody tr th {\n",
       "        vertical-align: top;\n",
       "    }\n",
       "\n",
       "    .dataframe thead th {\n",
       "        text-align: right;\n",
       "    }\n",
       "</style>\n",
       "<table border=\"1\" class=\"dataframe\">\n",
       "  <thead>\n",
       "    <tr style=\"text-align: right;\">\n",
       "      <th></th>\n",
       "      <th>temp</th>\n",
       "      <th>precip</th>\n",
       "      <th>windspeed</th>\n",
       "      <th>uvindex</th>\n",
       "      <th>icon_partly-cloudy-day</th>\n",
       "      <th>icon_rain</th>\n",
       "      <th>icon_snow</th>\n",
       "    </tr>\n",
       "  </thead>\n",
       "  <tbody>\n",
       "    <tr>\n",
       "      <th>73</th>\n",
       "      <td>66.0</td>\n",
       "      <td>0.000</td>\n",
       "      <td>22.5</td>\n",
       "      <td>8</td>\n",
       "      <td>True</td>\n",
       "      <td>False</td>\n",
       "      <td>False</td>\n",
       "    </tr>\n",
       "    <tr>\n",
       "      <th>60</th>\n",
       "      <td>53.9</td>\n",
       "      <td>0.235</td>\n",
       "      <td>13.1</td>\n",
       "      <td>4</td>\n",
       "      <td>False</td>\n",
       "      <td>True</td>\n",
       "      <td>False</td>\n",
       "    </tr>\n",
       "    <tr>\n",
       "      <th>18</th>\n",
       "      <td>41.1</td>\n",
       "      <td>0.000</td>\n",
       "      <td>11.2</td>\n",
       "      <td>7</td>\n",
       "      <td>False</td>\n",
       "      <td>False</td>\n",
       "      <td>False</td>\n",
       "    </tr>\n",
       "    <tr>\n",
       "      <th>44</th>\n",
       "      <td>56.6</td>\n",
       "      <td>0.000</td>\n",
       "      <td>18.8</td>\n",
       "      <td>8</td>\n",
       "      <td>True</td>\n",
       "      <td>False</td>\n",
       "      <td>False</td>\n",
       "    </tr>\n",
       "    <tr>\n",
       "      <th>4</th>\n",
       "      <td>41.0</td>\n",
       "      <td>0.000</td>\n",
       "      <td>12.2</td>\n",
       "      <td>6</td>\n",
       "      <td>True</td>\n",
       "      <td>False</td>\n",
       "      <td>False</td>\n",
       "    </tr>\n",
       "  </tbody>\n",
       "</table>\n",
       "</div>"
      ],
      "text/plain": [
       "    temp  precip  windspeed  uvindex  icon_partly-cloudy-day  icon_rain  \\\n",
       "73  66.0   0.000       22.5        8                    True      False   \n",
       "60  53.9   0.235       13.1        4                   False       True   \n",
       "18  41.1   0.000       11.2        7                   False      False   \n",
       "44  56.6   0.000       18.8        8                    True      False   \n",
       "4   41.0   0.000       12.2        6                    True      False   \n",
       "\n",
       "    icon_snow  \n",
       "73      False  \n",
       "60      False  \n",
       "18      False  \n",
       "44      False  \n",
       "4       False  "
      ]
     },
     "execution_count": 31,
     "metadata": {},
     "output_type": "execute_result"
    }
   ],
   "source": [
    "X_train.head()"
   ]
  },
  {
   "cell_type": "markdown",
   "id": "567ca534-2196-4565-93a0-6fd7879065a0",
   "metadata": {},
   "source": [
    "## </font> Training a KNN classifier model with $k=5$, and report the training and test accuracy, respectively."
   ]
  },
  {
   "cell_type": "markdown",
   "id": "112892f0-f7b2-4ce1-be26-68aad1866ba4",
   "metadata": {},
   "source": [
    "### Standardizing the input features (X values) before using KNN is a crucial step because KNN is a distance-based algorithm."
   ]
  },
  {
   "cell_type": "code",
   "execution_count": 32,
   "id": "70106636-3021-4b67-98bf-5488d3874f9d",
   "metadata": {},
   "outputs": [],
   "source": [
    "from sklearn.preprocessing import StandardScaler\n",
    "\n",
    "# Initialize the scaler\n",
    "scaler = StandardScaler()\n",
    "\n",
    "# Fit on training data and transform both training and test data\n",
    "X_train = pd.DataFrame(scaler.fit_transform(X_train), index=X_train.index, columns=X_train.columns)\n",
    "\n",
    "# Use transform only to avoid data leakage.\n",
    "# Does NOT recompute mean & standard deviation, but applies the same transformation learned from X_train.\n",
    "X_test = pd.DataFrame(scaler.transform(X_test), index=X_test.index, columns=X_test.columns)"
   ]
  },
  {
   "cell_type": "code",
   "execution_count": 33,
   "id": "656963f4-bcc8-4f28-9044-cbb96fca0501",
   "metadata": {},
   "outputs": [
    {
     "name": "stdout",
     "output_type": "stream",
     "text": [
      "Training Accuracy: 0.7592592592592593\n",
      "Test Accuracy: 0.4444444444444444\n"
     ]
    }
   ],
   "source": [
    "from sklearn.neighbors import KNeighborsClassifier\n",
    "from sklearn.metrics import accuracy_score\n",
    "\n",
    "# Initialize KNN classifier with k=5\n",
    "knn = KNeighborsClassifier(n_neighbors=5)\n",
    "knn.fit(X_train, y_train['PU_gt_DO'].values.ravel())  # Convert to 1D\n",
    "\n",
    "# Predict on training and test sets\n",
    "y_train_pred = knn.predict(X_train)\n",
    "y_test_pred = knn.predict(X_test)\n",
    "\n",
    "# Calculate accuracy\n",
    "train_accuracy = accuracy_score(y_train['PU_gt_DO'].values, y_train_pred)\n",
    "test_accuracy = accuracy_score(y_test['PU_gt_DO'].values, y_test_pred)\n",
    "\n",
    "print(\"Training Accuracy:\", train_accuracy)\n",
    "print(\"Test Accuracy:\", test_accuracy)"
   ]
  },
  {
   "cell_type": "markdown",
   "id": "51aa459f-b1ab-4a04-9b61-25ecd008a0fd",
   "metadata": {},
   "source": [
    "## </font> With the same training data, ploting the training and test accuracy of the KNN model against $k$ from 1 to 15. "
   ]
  },
  {
   "cell_type": "code",
   "execution_count": 34,
   "id": "e59eb3c5-6f40-4e29-a89e-61adb1134d41",
   "metadata": {},
   "outputs": [],
   "source": [
    "# Initialize lists to store accuracies\n",
    "train_accuracy = []\n",
    "test_accuracy = []\n",
    "\n",
    "# Loop over k values from 1 to 15\n",
    "for k in range(1, 16):  # Ensure k starts from 1 and goes up to 15\n",
    "    knn = KNeighborsClassifier(n_neighbors=k)\n",
    "    knn.fit(X_train, y_train['PU_gt_DO'].values.ravel())  # Fit the model\n",
    "\n",
    "    # Compute accuracy for training and test sets\n",
    "    train_accuracy.append(accuracy_score(y_train['PU_gt_DO'].values, knn.predict(X_train)))\n",
    "    test_accuracy.append(accuracy_score(y_test['PU_gt_DO'].values, knn.predict(X_test)))"
   ]
  },
  {
   "cell_type": "code",
   "execution_count": 35,
   "id": "45237fb5-7da2-46b5-87c5-a2d4ec86204a",
   "metadata": {},
   "outputs": [
    {
     "data": {
      "image/png": "[encoded data removed]",
      "text/plain": [
       "<Figure size 1000x600 with 1 Axes>"
      ]
     },
     "metadata": {},
     "output_type": "display_data"
    }
   ],
   "source": [
    "# Plot training and test accuracy against k\n",
    "plt.figure(figsize=(10, 6))\n",
    "plt.plot(range(1, 16), train_accuracy, marker='o', linestyle='-', color='blue', label='Training Accuracy')\n",
    "plt.plot(range(1, 16), test_accuracy, marker='o', linestyle='-', color='red', label='Test Accuracy')\n",
    "plt.xlabel('Number of Neighbors (k)', fontsize=14)\n",
    "plt.ylabel('Accuracy', fontsize=14)\n",
    "plt.title('KNN Accuracy vs. Number of Neighbors', fontsize=16)\n",
    "plt.legend(fontsize=12)\n",
    "plt.grid()\n",
    "plt.show()"
   ]
  },
  {
   "cell_type": "markdown",
   "id": "2f4bdc68-63b1-4364-bfce-317876899c36",
   "metadata": {},
   "source": [
    "## </font> Can we use the optimal $k$ in the above plot and report the corresponding test accuracy?"
   ]
  },
  {
   "cell_type": "markdown",
   "id": "9b4a2a9f-0872-421a-8f69-8e5d5ec6a30c",
   "metadata": {},
   "source": [
    "In the **above Task**, we plotted training and test accuracy for different k values and selected the best k based on **test accuracy**. However, we **should not** use this k value because:\n",
    "\n",
    "### Issues with Selecting k from the Graph:\n",
    "1. **Data Leakage**  \n",
    "   - The test set should be **unseen** until the final evaluation.\n",
    "   - Choosing k based on test accuracy means we indirectly \"train\" on the test set, leading to overfitting.\n",
    "\n",
    "2. **Bias in Model Evaluation**  \n",
    "   - The k chosen from the test accuracy **may not generalize well** to new data.\n",
    "   - A single test split does not provide a **robust estimate** of k.\n",
    "\n",
    "3. **Cross-Validation is Required**  \n",
    "   - Instead of relying on test accuracy, **cross-validation** on the **training set** should be used.\n",
    "   - This ensures k is selected based on multiple validation folds, making the model more generalizable.\n",
    "\n",
    "### Correct Approach: Use GridSearchCV\n",
    "- **GridSearchCV** automates k selection using **cross-validation on training data**.\n",
    "- It finds the best k **without using the test set**.\n",
    "- The final model is trained with the selected k and evaluated on the **test set**."
   ]
  },
  {
   "cell_type": "code",
   "execution_count": 36,
   "id": "d9d90f80-4617-4b54-bdd4-a94de6b05ff7",
   "metadata": {},
   "outputs": [
    {
     "name": "stdout",
     "output_type": "stream",
     "text": [
      "Best k from GridSearchCV: 8\n",
      "Best Cross-Validation Accuracy: 0.5781818181818181\n",
      "Test Accuracy with Best k: 0.4722222222222222\n"
     ]
    }
   ],
   "source": [
    "from sklearn.model_selection import GridSearchCV\n",
    "\n",
    "# Define the hyperparameter grid for k\n",
    "param_grid = {'n_neighbors': range(1, 16)}\n",
    "\n",
    "# Initialize KNN model\n",
    "knn = KNeighborsClassifier()\n",
    "\n",
    "# GridSearchCV with 5-fold cross-validation\n",
    "grid_search = GridSearchCV(knn, param_grid, cv=5, scoring='accuracy')\n",
    "\n",
    "# Fit GridSearchCV on training data\n",
    "grid_search.fit(X_train, y_train['PU_gt_DO'])\n",
    "\n",
    "# Get the best k and corresponding validation accuracy\n",
    "best_k = grid_search.best_params_['n_neighbors']\n",
    "best_score = grid_search.best_score_\n",
    "\n",
    "# Evaluate on test set\n",
    "best_knn = grid_search.best_estimator_\n",
    "knn_test_accuracy = best_knn.score(X_test, y_test['PU_gt_DO'])\n",
    "\n",
    "# Print results\n",
    "print(\"Best k from GridSearchCV:\", best_k)\n",
    "print(\"Best Cross-Validation Accuracy:\", best_score)\n",
    "print(\"Test Accuracy with Best k:\", knn_test_accuracy)"
   ]
  },
  {
   "cell_type": "markdown",
   "id": "37db65a9-32cc-4b2b-a403-39d17eea2f0b",
   "metadata": {},
   "source": [
    "## Why Use 5-Fold Cross-Validation Instead of 10-Fold?\n",
    "\n",
    "### Observations from 10-Fold Cross-Validation:\n",
    "1. When running **GridSearchCV with 10-fold cross-validation**, **k=3** was selected as the best hyperparameter.\n",
    "2. The test accuracy for k=3 was **only 0.333**, which is much lower than expected.\n",
    "3. This suggests that **k=3 may have been overfitting** to the training data, performing well in cross-validation but failing on the test set.\n",
    "\n",
    "### Switching to 5-Fold Cross-Validation:\n",
    "- By reducing the number of folds to **5**, we allow the model to train on slightly larger training subsets.\n",
    "- This helps avoid **overfitting**, ensuring the model selects a k-value that generalizes better.\n",
    "- With **5-fold cross-validation, k=8 was selected**, which provided a better balance between training accuracy and test accuracy.\n",
    "\n",
    "---\n",
    "\n",
    "## Why k=8 is the Best Choice?\n",
    "\n",
    "### Observations from Cross-Validation and Test Accuracy:\n",
    "1. **GridSearchCV with 5-Fold Cross-Validation** selected **k=8** as the best hyperparameter.\n",
    "2. **Cross-validation accuracy for k=8 was 0.578**, slightly lower than k=3 (0.620).\n",
    "3. **Test accuracy with k=8 was 0.472**, which is the highest compared to k=3 (0.333).\n",
    "4. The accuracy graph suggested **k=9 and k=12** as having the highest test accuracy, but they were not selected by GridSearchCV.\n",
    "\n",
    "### Why Not k=9 or k=12?\n",
    "- The accuracy graph is based on **one specific train-test split**, which may not generalize well across different splits of the dataset.\n",
    "- GridSearchCV uses **multiple train-validation splits** (cross-validation) to determine the best k, ensuring it generalizes across different subsets.\n",
    "- k=9 and k=12 may have **performed well for this particular test set**, but they may not be the best choices for unseen data in other scenarios.\n",
    "- k=8 provides a **balance between bias and variance**, leading to **better generalization**.\n",
    "\n",
    "### Why k=8 is the Best Choice?\n",
    "- **Less overfitting:** Unlike k=3, which had high cross-validation accuracy but very low test accuracy, k=8 generalizes better.\n",
    "- **More stability:** It was selected after multiple folds of cross-validation, not just one random split.\n",
    "- **Better real-world performance:** The test accuracy is higher than other k values selected by GridSearchCV.\n",
    "\n",
    "### Conclusion:\n",
    "**k=8 is the optimal choice** because it achieves the best balance between training accuracy, cross-validation accuracy, and real-world test accuracy. It avoids overfitting while ensuring better generalization."
   ]
  },
  {
   "cell_type": "markdown",
   "id": "fcac8437-c3c9-4249-af18-815fa3bde214",
   "metadata": {},
   "source": [
    "## </font> Training a Logistic Regression classifier model, and report the training and test accuracy, respectively."
   ]
  },
  {
   "cell_type": "code",
   "execution_count": 37,
   "id": "eaeabbd5-3277-44d4-99ac-8a30263ddb63",
   "metadata": {},
   "outputs": [
    {
     "name": "stdout",
     "output_type": "stream",
     "text": [
      "Intercept: \n",
      " [-0.22399632]\n",
      "temp                     -0.081528\n",
      "precip                    1.351205\n",
      "windspeed                -0.040697\n",
      "uvindex                   0.252599\n",
      "icon_partly-cloudy-day    0.779979\n",
      "icon_rain                 0.543769\n",
      "icon_snow                -0.247574\n",
      "dtype: float64\n"
     ]
    }
   ],
   "source": [
    "from sklearn.linear_model import LogisticRegression\n",
    "\n",
    "# specify model\n",
    "model = LogisticRegression(random_state=0)\n",
    "\n",
    "# train the model\n",
    "model.fit(X_train.values, y_train['PU_gt_DO'])\n",
    "\n",
    "# The coefficients\n",
    "print(\"Intercept: \\n\", model.intercept_)\n",
    "# The coefficients\n",
    "print(pd.Series(model.coef_.flatten(), index=X_train.columns))"
   ]
  },
  {
   "cell_type": "code",
   "execution_count": 38,
   "id": "983e1ce7-1552-4848-a12e-b7081c395d24",
   "metadata": {},
   "outputs": [
    {
     "name": "stdout",
     "output_type": "stream",
     "text": [
      "Training Accuracy: 0.7222222222222222\n",
      "Test Accuracy: 0.5277777777777778\n"
     ]
    }
   ],
   "source": [
    "# evaluate the logistic regression model's in-sample and out-of-sample performance\n",
    "y_train_pred=model.predict(X_train.values)\n",
    "y_test_pred=model.predict(X_test.values)\n",
    "\n",
    "from sklearn.metrics import accuracy_score\n",
    "train_accuracy = accuracy_score(y_train['PU_gt_DO'], y_train_pred)\n",
    "print(\"Training Accuracy:\", train_accuracy)\n",
    "test_accuracy = accuracy_score(y_test['PU_gt_DO'], y_test_pred)\n",
    "print(\"Test Accuracy:\", test_accuracy)"
   ]
  },
  {
   "cell_type": "markdown",
   "id": "bfde3b8e-acca-4743-88dd-cdf3e8660f1b",
   "metadata": {},
   "source": [
    "## </font> Calculate the probability that PU_ct>DO_ct in the *first* test sample."
   ]
  },
  {
   "cell_type": "code",
   "execution_count": 39,
   "id": "2f0e6a61-86f4-42cd-b00e-01b73bddb700",
   "metadata": {},
   "outputs": [
    {
     "data": {
      "text/html": [
       "<div>\n",
       "<style scoped>\n",
       "    .dataframe tbody tr th:only-of-type {\n",
       "        vertical-align: middle;\n",
       "    }\n",
       "\n",
       "    .dataframe tbody tr th {\n",
       "        vertical-align: top;\n",
       "    }\n",
       "\n",
       "    .dataframe thead th {\n",
       "        text-align: right;\n",
       "    }\n",
       "</style>\n",
       "<table border=\"1\" class=\"dataframe\">\n",
       "  <thead>\n",
       "    <tr style=\"text-align: right;\">\n",
       "      <th></th>\n",
       "      <th>temp</th>\n",
       "      <th>precip</th>\n",
       "      <th>windspeed</th>\n",
       "      <th>uvindex</th>\n",
       "      <th>icon_partly-cloudy-day</th>\n",
       "      <th>icon_rain</th>\n",
       "      <th>icon_snow</th>\n",
       "    </tr>\n",
       "  </thead>\n",
       "  <tbody>\n",
       "    <tr>\n",
       "      <th>72</th>\n",
       "      <td>0.937209</td>\n",
       "      <td>-0.385519</td>\n",
       "      <td>2.710779</td>\n",
       "      <td>1.761421</td>\n",
       "      <td>1.0</td>\n",
       "      <td>-0.829156</td>\n",
       "      <td>-0.137361</td>\n",
       "    </tr>\n",
       "  </tbody>\n",
       "</table>\n",
       "</div>"
      ],
      "text/plain": [
       "        temp    precip  windspeed   uvindex  icon_partly-cloudy-day  \\\n",
       "72  0.937209 -0.385519   2.710779  1.761421                     1.0   \n",
       "\n",
       "    icon_rain  icon_snow  \n",
       "72  -0.829156  -0.137361  "
      ]
     },
     "execution_count": 39,
     "metadata": {},
     "output_type": "execute_result"
    }
   ],
   "source": [
    "test_sample=X_test.iloc[[0]] # double brackets [[ ]] are used to ensure that the result is still a DataFrame.\n",
    "test_sample"
   ]
  },
  {
   "cell_type": "code",
   "execution_count": 40,
   "id": "7b5aa48e-6670-441c-98be-520a1ea7f490",
   "metadata": {},
   "outputs": [
    {
     "name": "stdout",
     "output_type": "stream",
     "text": [
      "[[0.53085877 0.46914123]]\n"
     ]
    }
   ],
   "source": [
    "y_pred=model.predict_proba(test_sample.values)\n",
    "print(y_pred)"
   ]
  },
  {
   "cell_type": "code",
   "execution_count": 41,
   "id": "a39bf0ce-5c37-4c01-9b5d-89e053c9e1e6",
   "metadata": {},
   "outputs": [
    {
     "name": "stdout",
     "output_type": "stream",
     "text": [
      "Probability that PU_ct > DO_ct for the first test sample: 0.4691412270133168\n"
     ]
    }
   ],
   "source": [
    "# Extract the first test sample correctly\n",
    "first_test_sample = X_test.iloc[[0]]  # Double brackets ensure it's a DataFrame\n",
    "\n",
    "# Predict probability (Fix: Use .values if model was trained without feature names)\n",
    "probability = model.predict_proba(first_test_sample.values)\n",
    "\n",
    "# Print probability\n",
    "print(\"Probability that PU_ct > DO_ct for the first test sample:\", probability[0][1])"
   ]
  },
  {
   "cell_type": "code",
   "execution_count": 42,
   "id": "8afddcd2-5fbd-4b4a-9886-3892fa3ea0b5",
   "metadata": {},
   "outputs": [
    {
     "data": {
      "text/plain": [
       "array([False,  True])"
      ]
     },
     "execution_count": 42,
     "metadata": {},
     "output_type": "execute_result"
    }
   ],
   "source": [
    "# Check the order of classes in the model\n",
    "model.classes_"
   ]
  },
  {
   "cell_type": "markdown",
   "id": "b82286d2-a19b-480d-af81-b6504982b899",
   "metadata": {},
   "source": [
    "### **Interpreting the Result**\n",
    "The predicted probability value **0.4691** represents the likelihood that `PU_ct > DO_ct` (i.e., the **True** class) for the first test sample.\n",
    "\n",
    "Since the `model.classes_` output shows: array([False, True])\n",
    "- The **first index (`[0]`)** corresponds to `PU_ct ≤ DO_ct` (False class).\n",
    "- The **second index (`[1]`)** corresponds to `PU_ct > DO_ct` (True class).\n",
    "\n",
    "The probability we extracted, `0.4691`, indicates that the model assigns **46.91% probability** to the condition `PU_ct > DO_ct` being **True**. \n",
    "\n",
    "Since this value is below **0.50**, the model would classify this sample as `PU_ct ≤ DO_ct` (False)."
   ]
  },
  {
   "cell_type": "markdown",
   "id": "287ef6ce-a250-48da-95d7-0deb4af5d419",
   "metadata": {},
   "source": [
    "## </font> Training a linear SVC model (C=10), and report the training and test accuracy, respectively."
   ]
  },
  {
   "cell_type": "code",
   "execution_count": 43,
   "id": "385ac4ec-fabd-4cb2-ae04-3fc928f54503",
   "metadata": {},
   "outputs": [
    {
     "name": "stdout",
     "output_type": "stream",
     "text": [
      "Intercept: \n",
      " [-0.40704113]\n",
      "temp                     -0.022511\n",
      "precip                    1.711830\n",
      "windspeed                -0.019177\n",
      "uvindex                   0.065223\n",
      "icon_partly-cloudy-day    0.035102\n",
      "icon_rain                -0.011258\n",
      "icon_snow                -0.043851\n",
      "dtype: float64\n"
     ]
    }
   ],
   "source": [
    "# fit SVM classifier with linear kernel\n",
    "from sklearn.svm import SVC\n",
    "\n",
    "model = SVC(kernel='linear', C=10) \n",
    "model.fit(X_train.values, y_train['PU_gt_DO'])\n",
    "\n",
    "# The coefficients\n",
    "print(\"Intercept: \\n\", model.intercept_)\n",
    "# The coefficients\n",
    "print(pd.Series(model.coef_.flatten(), index=X_train.columns))"
   ]
  },
  {
   "cell_type": "code",
   "execution_count": 44,
   "id": "046d3a7f-f616-4985-8aca-51a267f33d39",
   "metadata": {},
   "outputs": [
    {
     "name": "stdout",
     "output_type": "stream",
     "text": [
      "Training Accuracy: 0.6851851851851852\n",
      "Test Accuracy: 0.5\n"
     ]
    }
   ],
   "source": [
    "# Get in-sample prediction performance\n",
    "y_train_pred = model.predict(X_train.values)\n",
    "# evaluate in the test data\n",
    "y_test_pred=model.predict(X_test.values)\n",
    "\n",
    "from sklearn.metrics import accuracy_score\n",
    "train_accuracy = accuracy_score(y_train['PU_gt_DO'], y_train_pred)\n",
    "print(\"Training Accuracy:\", train_accuracy)\n",
    "test_accuracy = accuracy_score(y_test['PU_gt_DO'], y_test_pred)\n",
    "print(\"Test Accuracy:\", test_accuracy)"
   ]
  },
  {
   "cell_type": "markdown",
   "id": "d0e21e56-1bb2-4c77-bbfc-50048fe4b45f",
   "metadata": {},
   "source": [
    "## </font> Training a nonlinear SVC model with RBF kernel (C=10), and report the training and test accuracy, respectively."
   ]
  },
  {
   "cell_type": "code",
   "execution_count": 45,
   "id": "107a61c4-a027-4a54-88ed-09360ed46839",
   "metadata": {},
   "outputs": [
    {
     "name": "stdout",
     "output_type": "stream",
     "text": [
      "Training Accuracy: 0.8148148148148148\n",
      "Test Accuracy: 0.5\n"
     ]
    }
   ],
   "source": [
    "# Initialize SVC model with RBF kernel and C=10\n",
    "model = SVC(kernel='rbf', C=10)\n",
    "\n",
    "# Train the model on the training data\n",
    "model.fit(X_train, y_train['PU_gt_DO'])\n",
    "\n",
    "# Make predictions on training and test sets\n",
    "y_train_pred = model.predict(X_train)\n",
    "y_test_pred = model.predict(X_test)\n",
    "\n",
    "# Compute accuracy scores\n",
    "train_accuracy = accuracy_score(y_train['PU_gt_DO'], y_train_pred)\n",
    "test_accuracy = accuracy_score(y_test['PU_gt_DO'], y_test_pred)\n",
    "\n",
    "# Print the results\n",
    "print(\"Training Accuracy:\", train_accuracy)\n",
    "print(\"Test Accuracy:\", test_accuracy)"
   ]
  },
  {
   "cell_type": "markdown",
   "id": "a212b112-4d68-49ee-b1ff-bf15c785b291",
   "metadata": {},
   "source": [
    "## </font> Among the KNN, Logisitc Regression, linear SVC, nonlinear SVC with RBF Kernel, which one performs the best? "
   ]
  },
  {
   "cell_type": "code",
   "execution_count": 46,
   "id": "4b1ead8e-0128-4805-9168-c0e3f372e147",
   "metadata": {},
   "outputs": [
    {
     "name": "stdout",
     "output_type": "stream",
     "text": [
      "\n",
      "Final Model Performance Comparison:\n",
      "\n",
      "KNN: 0.4722\n",
      "Logistic Regression: 0.5556\n",
      "Linear SVC: 0.5000\n",
      "Nonlinear SVC (RBF Kernel): 0.5000\n",
      "\n",
      "The best performing model is **Logistic Regression** with a test accuracy of **0.5556**\n"
     ]
    }
   ],
   "source": [
    "import numpy as np\n",
    "from sklearn.model_selection import RandomizedSearchCV\n",
    "\n",
    "# Ensure y_train and y_test are Pandas DataFrames before extracting values\n",
    "if isinstance(y_train, np.ndarray):\n",
    "    y_train = y_train.ravel()\n",
    "else:\n",
    "    y_train = y_train['PU_gt_DO'].values.ravel()\n",
    "\n",
    "if isinstance(y_test, np.ndarray):\n",
    "    y_test = y_test.ravel()\n",
    "else:\n",
    "    y_test = y_test['PU_gt_DO'].values.ravel()\n",
    "\n",
    "__\n",
    "# --------------------------------\n",
    "# **Define Hyperparameter Grids**\n",
    "# --------------------------------\n",
    "\n",
    "# K-Nearest Neighbors: Tune 'k'\n",
    "param_grid_knn = {'n_neighbors': range(1, 16)}\n",
    "\n",
    "# Logistic Regression: Tune 'C'\n",
    "param_grid_lr = {'C': np.logspace(-2,2,10)}\n",
    "\n",
    "# Linear SVC: Tune 'C'\n",
    "param_grid_svc_linear = {'C': np.logspace(-2,2,10)}\n",
    "\n",
    "# Nonlinear SVC (RBF): Tune 'C' and 'gamma' (Randomized Search for efficiency)\n",
    "param_grid_svc_rbf = {\n",
    "    'C': np.logspace(-2,2,10),\n",
    "    'gamma': np.logspace(-2,2,10)\n",
    "}\n",
    "\n",
    "# --------------------------------\n",
    "# **Train and Tune KNN**\n",
    "# --------------------------------\n",
    "knn = KNeighborsClassifier()\n",
    "grid_knn = GridSearchCV(knn, param_grid_knn, cv=5, scoring='accuracy', n_jobs=-1)\n",
    "grid_knn.fit(X_train, y_train)\n",
    "\n",
    "best_knn = grid_knn.best_estimator_\n",
    "knn_test_acc = best_knn.score(X_test, y_test)\n",
    "\n",
    "# --------------------------------\n",
    "# **Train and Tune Logistic Regression**\n",
    "# --------------------------------\n",
    "log_reg = LogisticRegression(random_state=0, max_iter=500)\n",
    "grid_lr = GridSearchCV(log_reg, param_grid_lr, cv=5, scoring='accuracy', n_jobs=-1)\n",
    "grid_lr.fit(X_train, y_train)\n",
    "\n",
    "best_lr = grid_lr.best_estimator_\n",
    "lr_test_acc = best_lr.score(X_test, y_test)\n",
    "\n",
    "# --------------------------------\n",
    "# **Train and Tune Linear SVC**\n",
    "# --------------------------------\n",
    "svc_linear = SVC(kernel='linear', random_state=0)\n",
    "grid_svc_linear = GridSearchCV(svc_linear, param_grid_svc_linear, cv=5, scoring='accuracy', n_jobs=-1)\n",
    "grid_svc_linear.fit(X_train, y_train)\n",
    "\n",
    "best_svc_linear = grid_svc_linear.best_estimator_\n",
    "svc_linear_test_acc = best_svc_linear.score(X_test, y_test)\n",
    "\n",
    "# --------------------------------\n",
    "# **Train and Tune Nonlinear SVC with RBF Kernel (Randomized Search for efficiency)**\n",
    "# --------------------------------\n",
    "svc_rbf = SVC(kernel='rbf', random_state=0)\n",
    "random_svc_rbf = RandomizedSearchCV(svc_rbf, param_grid_svc_rbf, cv=5, scoring='accuracy', n_jobs=-1, n_iter=10)\n",
    "random_svc_rbf.fit(X_train, y_train)\n",
    "\n",
    "best_svc_rbf = random_svc_rbf.best_estimator_\n",
    "svc_rbf_test_acc = best_svc_rbf.score(X_test, y_test)\n",
    "\n",
    "# --------------------------------\n",
    "# **Compare Test Accuracies**\n",
    "# --------------------------------\n",
    "model_performance = {\n",
    "    'KNN': knn_test_acc,\n",
    "    'Logistic Regression': lr_test_acc,\n",
    "    'Linear SVC': svc_linear_test_acc,\n",
    "    'Nonlinear SVC (RBF Kernel)': svc_rbf_test_acc\n",
    "}\n",
    "\n",
    "# Find the best model\n",
    "best_model = max(model_performance, key=model_performance.get)\n",
    "best_model_acc = model_performance[best_model]\n",
    "\n",
    "# --------------------------------\n",
    "# **Print Results**\n",
    "# --------------------------------\n",
    "print(\"\\nFinal Model Performance Comparison:\\n\")\n",
    "for model, acc in model_performance.items():\n",
    "    print(f\"{model}: {acc:.4f}\")\n",
    "\n",
    "print(f\"\\nThe best performing model is **{best_model}** with a test accuracy of **{best_model_acc:.4f}**\")"
   ]
  },
  {
   "cell_type": "markdown",
   "id": "e3f96296-50f9-49f0-a339-0aaea54580df",
   "metadata": {},
   "source": [
    "## Hyperparameter Tuning and Cross-Validation for Model Selection\n",
    "\n",
    "### Why Hyperparameter Tuning?\n",
    "Hyperparameter tuning is a crucial step in machine learning as it allows us to find the best parameters that improve model performance. Different models have different hyperparameters that need optimization:\n",
    "\n",
    "- **K-Nearest Neighbors (KNN)**: The hyperparameter **k** (number of neighbors) controls the smoothness of the decision boundary.\n",
    "- **Logistic Regression**: The **C** parameter (inverse of regularization strength) influences how much regularization is applied.\n",
    "- **Support Vector Classifier (SVC)**: The **C** parameter determines margin hardness, and for nonlinear SVC (RBF Kernel), **gamma** controls how far the influence of a single training example reaches.\n",
    "\n",
    "We performed **grid search (or randomized search for efficiency)** over a range of values for each hyperparameter and selected the best ones based on cross-validation accuracy.\n",
    "\n",
    "### Cross-Validation for Performance Evaluation\n",
    "To ensure our models generalize well to unseen data, we used **k-fold cross-validation**. This approach:\n",
    "- Splits the training data into **k** folds.\n",
    "- Trains the model on **k-1** folds and validates on the remaining fold.\n",
    "- Repeats this process **k** times, ensuring that each fold serves as a validation set once.\n",
    "- Computes the **mean cross-validation accuracy**, giving us a robust estimate of model performance.\n",
    "\n",
    "After selecting the best hyperparameters, we trained each model with the optimal settings and evaluated their test accuracy.\n",
    "\n",
    "### Final Model Comparison and Conclusion\n",
    "The final test accuracies for each model were:\n",
    "\n",
    "- **KNN**: 0.4722\n",
    "- **Logistic Regression**: **0.5556** (Highest Accuracy)\n",
    "- **Linear SVC**: 0.5000\n",
    "- **Nonlinear SVC (RBF Kernel)**: 0.4722\n",
    "\n",
    "From these results, **Logistic Regression emerged as the best-performing model.** This makes intuitive sense because our goal was to **predict whether PU_ct > DO_ct**, which is a binary classification task. Logistic Regression, being inherently designed for such classification problems, proved to be the most effective in this case.\n",
    "\n",
    "Thus, based on hyperparameter tuning and cross-validation evaluation, **Logistic Regression** was selected as the final model."
   ]
  },
  {
   "cell_type": "markdown",
   "id": "add01831-712b-4b2d-a4b6-525bf8f70584",
   "metadata": {},
   "source": [
    "# **Regularization and Cross Validation**"
   ]
  },
  {
   "cell_type": "code",
   "execution_count": 47,
   "id": "cb3bd7bf-3eec-4e6b-a1f5-4339dd152aba",
   "metadata": {},
   "outputs": [],
   "source": [
    "# load packages\n",
    "import pandas as pd\n",
    "import numpy as np\n",
    "import matplotlib.pyplot as plt\n",
    "import seaborn as sns\n",
    "\n",
    "from sklearn.preprocessing import scale\n",
    "from sklearn import model_selection\n",
    "from sklearn.linear_model import LinearRegression, Ridge, RidgeCV, Lasso, LassoCV\n",
    "from sklearn.model_selection import KFold, cross_val_score\n",
    "from sklearn.metrics import mean_squared_error"
   ]
  },
  {
   "cell_type": "code",
   "execution_count": 49,
   "id": "7eb979b2-3298-481a-96bb-7470dbeccc3d",
   "metadata": {},
   "outputs": [],
   "source": [
    "from sklearn.model_selection import train_test_split\n",
    "\n",
    "X_train,X_test, y_train,y_test = train_test_split(X,y, test_size=0.4, random_state = 200) # 40% test data"
   ]
  },
  {
   "cell_type": "markdown",
   "id": "0a5dbe26-f56a-4ec0-98ea-afd28428079b",
   "metadata": {},
   "source": [
    "### Encode dummy variables for categorical features. We use all features in `X_train_dummies` and `X_test_dummies`."
   ]
  },
  {
   "cell_type": "code",
   "execution_count": 50,
   "id": "999583e2-dd42-4011-ace5-f43c100bdfc5",
   "metadata": {},
   "outputs": [],
   "source": [
    "# get dummies in X_train_PU\n",
    "X_train_dummies = pd.get_dummies(X_train, columns=['icon'], prefix='icon',drop_first=True)\n",
    "\n",
    "# get dummies in X_test_PU\n",
    "X_test_dummies = pd.get_dummies(X_test, columns=['icon'], prefix='icon',drop_first=True)\n",
    "\n",
    "# Ensure both training and testing sets have the same columns\n",
    "X_test_dummies = X_test_dummies.reindex(columns=X_train_dummies.columns, fill_value=0)"
   ]
  },
  {
   "cell_type": "code",
   "execution_count": 51,
   "id": "d24e921c-f060-40dd-a8cf-416cfcbbae28",
   "metadata": {},
   "outputs": [],
   "source": [
    "from sklearn.preprocessing import StandardScaler\n",
    "\n",
    "# Initialize the scaler\n",
    "scaler = StandardScaler()\n",
    "\n",
    "# Fit on training data and transform both training and test data\n",
    "X_train_dummies_scaled = pd.DataFrame(scaler.fit_transform(X_train_dummies), \n",
    "                                      index=X_train_dummies.index, \n",
    "                                      columns=X_train_dummies.columns)\n",
    "\n",
    "# Use transform only to avoid data leakage\n",
    "# Does NOT recompute mean & standard deviation, but applies the same transformation learned from X_train_dummies.\n",
    "X_test_dummies_scaled = pd.DataFrame(scaler.transform(X_test_dummies), \n",
    "                                     index=X_test_dummies.index, \n",
    "                                     columns=X_test_dummies.columns)"
   ]
  },
  {
   "cell_type": "markdown",
   "id": "b882a5d7-b0c1-40f5-9e52-2934061da48b",
   "metadata": {},
   "source": [
    "## Evaluating the performance of `Lasso(alpha=1)` for 'PU_ct' prediction. Specifically, using 5-Fold cross validation and reporting the average scoring metric `neg_mean_squared_error` ."
   ]
  },
  {
   "cell_type": "code",
   "execution_count": 52,
   "id": "371bb23c-f12b-4291-9cd6-5c929c14dc4d",
   "metadata": {},
   "outputs": [
    {
     "name": "stdout",
     "output_type": "stream",
     "text": [
      "Cross-validated Negative MSE for Lasso (alpha=1): -66.5424\n"
     ]
    }
   ],
   "source": [
    "# Initialize Lasso model with alpha=1\n",
    "lasso = Lasso(alpha=1)\n",
    "\n",
    "# Perform 5-Fold Cross Validation on training data\n",
    "cv_scores = cross_val_score(lasso, X_train_dummies_scaled, y_train['PU_ct'], \n",
    "                            cv=5, scoring='neg_mean_squared_error')\n",
    "\n",
    "# Compute the average score\n",
    "avg_mse = cv_scores.mean()\n",
    "\n",
    "# Print results\n",
    "print(f\"Cross-validated Negative MSE for Lasso (alpha=1): {avg_mse:.4f}\")"
   ]
  },
  {
   "cell_type": "markdown",
   "id": "b6de2497-0d19-4d23-b863-74647edc30ee",
   "metadata": {},
   "source": [
    "## Ploting 'Lasso coefficients as a function of the regularization' for Lasso model with `alphas = np.logspace(-4, 2, 50)` for 'PU_ct' prediction."
   ]
  },
  {
   "cell_type": "code",
   "execution_count": 53,
   "id": "78014191-0db2-488b-9f8b-36f92b06dbb4",
   "metadata": {},
   "outputs": [
    {
     "data": {
      "image/png": "[encoded data removed]",
      "text/plain": [
       "<Figure size 640x480 with 1 Axes>"
      ]
     },
     "metadata": {},
     "output_type": "display_data"
    }
   ],
   "source": [
    "alphas = 10**np.linspace(-4,2,50)\n",
    "\n",
    "lasso = Lasso()\n",
    "coefs = []\n",
    "\n",
    "for a in alphas:\n",
    "    lasso.set_params(alpha=a)\n",
    "    lasso.fit(scale(X_train_dummies_scaled), y_train['PU_ct'])\n",
    "    coefs.append(lasso.coef_)\n",
    "\n",
    "ax = plt.gca()\n",
    "ax.plot(alphas, coefs)\n",
    "ax.set_xscale('log')\n",
    "ax.set_xlim(ax.get_xlim())\n",
    "plt.axis('tight')\n",
    "plt.xlabel('alpha')\n",
    "plt.ylabel('Coefficients')\n",
    "plt.legend(list(X.columns), loc='best')\n",
    "\n",
    "plt.title('Lasso coefficients as a function of the regularization');"
   ]
  },
  {
   "cell_type": "markdown",
   "id": "eb2a0ca9-0211-42a9-849f-148c4e8c1a87",
   "metadata": {},
   "source": [
    "## Using `GridSearchCV` to find the best alpha within `alphas = np.logspace(-4, 2, 50)` for Lasso model for 'PU_ct' prediction."
   ]
  },
  {
   "cell_type": "code",
   "execution_count": 54,
   "id": "c932e914-95c6-4e2b-a5f1-22894a433abb",
   "metadata": {},
   "outputs": [
    {
     "name": "stdout",
     "output_type": "stream",
     "text": [
      "Best alpha: {'alpha': 0.8286427728546842}\n",
      "Best negative MSE: -66.43937417136101\n",
      "Test score: 0.3387952580323621\n"
     ]
    }
   ],
   "source": [
    "from sklearn.model_selection import GridSearchCV\n",
    "\n",
    "# Define the grid of alpha values\n",
    "alphas = np.logspace(-4, 2, 50)\n",
    "param_grid = {'alpha': alphas}\n",
    "\n",
    "# Initialize the Lasso model\n",
    "lasso = Lasso()\n",
    "\n",
    "# Create the GridSearchCV object\n",
    "grid_search = GridSearchCV(lasso, param_grid, cv=5, scoring='neg_mean_squared_error')\n",
    "\n",
    "# Fit the GridSearchCV object to the training data\n",
    "grid_search.fit(X_train_dummies_scaled, y_train['PU_ct'])\n",
    "\n",
    "# Print the best alpha and corresponding score\n",
    "print(\"Best alpha:\", grid_search.best_params_)\n",
    "print(\"Best negative MSE:\", grid_search.best_score_)\n",
    "\n",
    "# Get the best model\n",
    "best_lasso = grid_search.best_estimator_\n",
    "\n",
    "# Evaluate the best model on the test set\n",
    "test_score = best_lasso.score(X_test_dummies_scaled, y_test['PU_ct'])\n",
    "print(\"Test score:\", test_score)"
   ]
  },
  {
   "cell_type": "markdown",
   "id": "2722179e-9e22-4755-9d58-684ff7da6bdd",
   "metadata": {},
   "source": [
    "## Using `LassoCV` to find the best alpha within `alphas = np.logspace(-4, 2, 50)` for Lasso model for 'PU_ct' prediction."
   ]
  },
  {
   "cell_type": "code",
   "execution_count": 55,
   "id": "2ebad976-3a7a-4f26-b9b9-c8b06e348a11",
   "metadata": {},
   "outputs": [
    {
     "name": "stdout",
     "output_type": "stream",
     "text": [
      "The best alpha from LassoCV: 0.8286427728546842\n"
     ]
    }
   ],
   "source": [
    "# find the best alpha via CV with selected scoring metric\n",
    "lassocv = LassoCV(alphas=alphas)\n",
    "lassocv.fit(scale(X_train_dummies_scaled), y_train['PU_ct'])\n",
    "\n",
    "print('The best alpha from LassoCV:', lassocv.alpha_)"
   ]
  },
  {
   "cell_type": "markdown",
   "id": "984665ad-e737-4e66-9c47-e1f9a5cd06c0",
   "metadata": {},
   "source": [
    "## Printing the coefficients from the Lasso model for 'PU_ct' prediction with the best alpha identified in above Task. "
   ]
  },
  {
   "cell_type": "code",
   "execution_count": 56,
   "id": "be6af706-3cc0-40f0-a9aa-2d19d01ea2a8",
   "metadata": {},
   "outputs": [
    {
     "name": "stdout",
     "output_type": "stream",
     "text": [
      "The coefficients are:\n",
      "temp                      3.249644\n",
      "precip                   -0.000000\n",
      "windspeed                -0.000000\n",
      "uvindex                   2.693764\n",
      "icon_partly-cloudy-day    0.687630\n",
      "icon_rain                 0.000000\n",
      "icon_snow                -1.224301\n",
      "dtype: float64\n"
     ]
    }
   ],
   "source": [
    "# with the best alpha\n",
    "lasso.set_params(alpha=lassocv.alpha_)\n",
    "lasso.fit(scale(X_train_dummies_scaled), y_train['PU_ct'])\n",
    "print('The coefficients are:')\n",
    "print(pd.Series(lasso.coef_.flatten(), index=X_train_dummies_scaled.columns))"
   ]
  },
  {
   "cell_type": "markdown",
   "id": "447e2134-2943-4866-905b-3185f290abfd",
   "metadata": {},
   "source": [
    "## Evaluating the out-of-sample MSE of the Lasso model for 'PU_ct' prediction with the best alpha identified in above task."
   ]
  },
  {
   "cell_type": "code",
   "execution_count": 57,
   "id": "0b410606-2604-4220-aa4f-6efd25ae0bbf",
   "metadata": {},
   "outputs": [
    {
     "name": "stdout",
     "output_type": "stream",
     "text": [
      "Out-of-sample MSE for the best Lasso model: 55.4045\n"
     ]
    }
   ],
   "source": [
    "# Fit the Lasso model using the best alpha\n",
    "lasso_best = Lasso(alpha=lassocv.alpha_)\n",
    "lasso_best.fit(X_train_dummies_scaled, y_train['PU_ct'])\n",
    "\n",
    "# Make predictions on the test set\n",
    "y_pred = lasso_best.predict(X_test_dummies_scaled)\n",
    "\n",
    "# Compute the out-of-sample MSE\n",
    "mse_out_of_sample = mean_squared_error(y_test['PU_ct'], y_pred)\n",
    "\n",
    "# Print the result\n",
    "print(f\"Out-of-sample MSE for the best Lasso model: {mse_out_of_sample:.4f}\")"
   ]
  },
  {
   "cell_type": "markdown",
   "id": "5766debb-09d5-4bda-920a-4a78bf901855",
   "metadata": {},
   "source": [
    "## Using `LassoCV` to find the best alpha within `alphas = np.logspace(-4, 2, 50)` for Lasso model for 'DO_ct' prediction."
   ]
  },
  {
   "cell_type": "code",
   "execution_count": 58,
   "id": "e59f7f53-1cc3-4255-9d68-35ac31e6a385",
   "metadata": {},
   "outputs": [
    {
     "name": "stdout",
     "output_type": "stream",
     "text": [
      "The best alpha from LassoCV: 0.6250551925273969\n"
     ]
    }
   ],
   "source": [
    "# find the best alpha via CV with selected scoring metric\n",
    "lassocv = LassoCV(alphas=alphas)\n",
    "lassocv.fit(scale(X_train_dummies_scaled), y_train['DO_ct'])\n",
    "\n",
    "print('The best alpha from LassoCV:', lassocv.alpha_)"
   ]
  },
  {
   "cell_type": "markdown",
   "id": "4c2d7dda-c63d-416a-87d5-d6d0a98806b9",
   "metadata": {},
   "source": [
    "## Evaluating the out-of-sample MSE of the Lasso model for 'DO_ct' prediction with the best alpha identified in above task."
   ]
  },
  {
   "cell_type": "code",
   "execution_count": 59,
   "id": "6bd230e6-dcc3-490d-9aae-54b5b9dd31c8",
   "metadata": {},
   "outputs": [
    {
     "name": "stdout",
     "output_type": "stream",
     "text": [
      "Out-of-sample MSE for the best Lasso model: 68.5772\n"
     ]
    }
   ],
   "source": [
    "# Fit the Lasso model using the best alpha\n",
    "lasso_best = Lasso(alpha=lassocv.alpha_)\n",
    "lasso_best.fit(X_train_dummies_scaled, y_train['DO_ct'])\n",
    "\n",
    "# Make predictions on the test set\n",
    "y_pred = lasso_best.predict(X_test_dummies_scaled)\n",
    "\n",
    "# Compute the out-of-sample MSE\n",
    "mse_out_of_sample = mean_squared_error(y_test['DO_ct'], y_pred)\n",
    "\n",
    "# Print the result\n",
    "print(f\"Out-of-sample MSE for the best Lasso model: {mse_out_of_sample:.4f}\")"
   ]
  },
  {
   "cell_type": "markdown",
   "id": "94599fef-5acc-4d09-97d9-059c4d442367",
   "metadata": {},
   "source": [
    "### Conclusion: Regularization and Cross-Validation\n",
    "\n",
    "In this section, we explored the importance of regularization techniques and model validation using the Capital Bikeshare dataset. We focused on:\n",
    "\n",
    "- **Lasso Regression**: Applied to penalize and shrink coefficients of less significant features, helping in feature selection and reducing overfitting.\n",
    "- **Cross-Validation (5-Fold CV)**: Used to evaluate the performance of models in a more robust manner by computing average errors across multiple data splits.\n",
    "- **GridSearchCV & LassoCV**: Implemented to identify the optimal regularization parameter `alpha` for the Lasso model, ensuring the best model generalization.\n",
    "- **Coefficient Path Plot**: Visualized how Lasso coefficients change with varying values of `alpha`, highlighting feature importance under different regularization strengths.\n",
    "- **Model Evaluation**: Calculated the out-of-sample Mean Squared Error (MSE) for both `PU_ct` and `DO_ct` predictions using the best-found alpha, assessing final model performance on unseen data.\n",
    "\n",
    "This approach not only improved model performance but also enhanced interpretability and prevented overfitting by controlling model complexity.\n",
    "\n"
   ]
  },
  {
   "cell_type": "code",
   "execution_count": null,
   "id": "3cd2da3f-efef-468a-9b9c-36d465abd2f5",
   "metadata": {},
   "outputs": [],
   "source": []
  }
 ],
 "metadata": {
  "colab": {
   "provenance": []
  },
  "kernelspec": {
   "display_name": "Python 3 (ipykernel)",
   "language": "python",
   "name": "python3"
  },
  "language_info": {
   "codemirror_mode": {
    "name": "ipython",
    "version": 3
   },
   "file_extension": ".py",
   "mimetype": "text/x-python",
   "name": "python",
   "nbconvert_exporter": "python",
   "pygments_lexer": "ipython3",
   "version": "3.12.4"
  }
 },
 "nbformat": 4,
 "nbformat_minor": 5
}
